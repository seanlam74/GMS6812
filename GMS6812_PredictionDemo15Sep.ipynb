{
  "nbformat": 4,
  "nbformat_minor": 0,
  "metadata": {
    "kernelspec": {
      "display_name": "Python 3",
      "language": "python",
      "name": "python3"
    },
    "language_info": {
      "codemirror_mode": {
        "name": "ipython",
        "version": 3
      },
      "file_extension": ".py",
      "mimetype": "text/x-python",
      "name": "python",
      "nbconvert_exporter": "python",
      "pygments_lexer": "ipython3",
      "version": "3.7.4"
    },
    "colab": {
      "name": "GMS6812_PredictionDemo.ipynb",
      "provenance": [],
      "toc_visible": true,
      "include_colab_link": true
    }
  },
  "cells": [
    {
      "cell_type": "markdown",
      "metadata": {
        "id": "view-in-github",
        "colab_type": "text"
      },
      "source": [
        "<a href=\"https://colab.research.google.com/github/seanlam74/GMS6812/blob/master/GMS6812_PredictionDemo15Sep.ipynb\" target=\"_parent\"><img src=\"https://colab.research.google.com/assets/colab-badge.svg\" alt=\"Open In Colab\"/></a>"
      ]
    },
    {
      "cell_type": "markdown",
      "metadata": {
        "id": "aF6UM5ETe421",
        "colab_type": "text"
      },
      "source": [
        "# GMS6812 Predictive Modeling Demo\n",
        "\n",
        "#### Instructor: Sean Lam (Email: lam.shao.wei@singhealth.com.sg), Health Services Research, SingHealth and Duke NUS\n",
        "\n",
        "In this demo, you will learn the following,\n",
        "- Performed Explanatory Data Analysis and applied extensive feature engineering, feature selection and on Diabetes patient’s hospital readmission data.\n",
        "- Built Decision Tree and Logistic classifiers in python using Scikit-Learn to predict which patients might be readmitted to the hospital."
      ]
    },
    {
      "cell_type": "code",
      "metadata": {
        "id": "dxIfuS-Ve422",
        "colab_type": "code",
        "colab": {}
      },
      "source": [
        "import seaborn as sns\n",
        "import matplotlib.pyplot as plt\n",
        "%matplotlib inline\n",
        "import pandas as pd\n",
        "from sklearn import preprocessing\n",
        "from sklearn.model_selection import train_test_split\n",
        "from scipy.stats import chisquare, ks_2samp\n",
        "import numpy as np"
      ],
      "execution_count": null,
      "outputs": []
    },
    {
      "cell_type": "code",
      "metadata": {
        "id": "LZ0P5XnWiaSv",
        "colab_type": "code",
        "colab": {
          "base_uri": "https://localhost:8080/",
          "height": 70
        },
        "outputId": "31bd8cff-9ae3-4ea6-d4ae-c252c6ff8298"
      },
      "source": [
        "# Reading the data into python with \"pandas\", file in GItHub\n",
        "url = 'https://github.com/seanlam74/GMS6812/blob/master/training_data.csv'\n",
        "df = pd.read_csv(url, error_bad_lines=False)\n",
        "data.shape"
      ],
      "execution_count": null,
      "outputs": [
        {
          "output_type": "stream",
          "text": [
            "b'Skipping line 53: expected 1 fields, saw 2\\nSkipping line 137: expected 1 fields, saw 3\\nSkipping line 149: expected 1 fields, saw 6\\nSkipping line 150: expected 1 fields, saw 3\\nSkipping line 174: expected 1 fields, saw 4\\nSkipping line 178: expected 1 fields, saw 2\\nSkipping line 180: expected 1 fields, saw 2\\nSkipping line 181: expected 1 fields, saw 2\\nSkipping line 182: expected 1 fields, saw 2\\nSkipping line 183: expected 1 fields, saw 2\\nSkipping line 184: expected 1 fields, saw 2\\nSkipping line 185: expected 1 fields, saw 2\\nSkipping line 186: expected 1 fields, saw 2\\nSkipping line 187: expected 1 fields, saw 2\\nSkipping line 188: expected 1 fields, saw 2\\nSkipping line 192: expected 1 fields, saw 2\\nSkipping line 193: expected 1 fields, saw 2\\nSkipping line 199: expected 1 fields, saw 2\\nSkipping line 202: expected 1 fields, saw 2\\nSkipping line 210: expected 1 fields, saw 4\\nSkipping line 216: expected 1 fields, saw 2\\nSkipping line 221: expected 1 fields, saw 2\\nSkipping line 222: expected 1 fields, saw 2\\nSkipping line 223: expected 1 fields, saw 2\\nSkipping line 224: expected 1 fields, saw 2\\nSkipping line 225: expected 1 fields, saw 2\\nSkipping line 230: expected 1 fields, saw 2\\nSkipping line 231: expected 1 fields, saw 2\\nSkipping line 232: expected 1 fields, saw 2\\nSkipping line 233: expected 1 fields, saw 2\\nSkipping line 240: expected 1 fields, saw 2\\nSkipping line 248: expected 1 fields, saw 4\\nSkipping line 253: expected 1 fields, saw 2\\nSkipping line 256: expected 1 fields, saw 2\\nSkipping line 257: expected 1 fields, saw 2\\nSkipping line 261: expected 1 fields, saw 2\\nSkipping line 262: expected 1 fields, saw 2\\nSkipping line 286: expected 1 fields, saw 2\\nSkipping line 424: expected 1 fields, saw 6\\nSkipping line 425: expected 1 fields, saw 3\\nSkipping line 430: expected 1 fields, saw 6\\nSkipping line 431: expected 1 fields, saw 3\\nSkipping line 513: expected 1 fields, saw 6\\nSkipping line 524: expected 1 fields, saw 6\\nSkipping line 536: expected 1 fields, saw 6\\nSkipping line 552: expected 1 fields, saw 3\\nSkipping line 558: expected 1 fields, saw 3\\nSkipping line 564: expected 1 fields, saw 3\\nSkipping line 570: expected 1 fields, saw 3\\nSkipping line 576: expected 1 fields, saw 3\\nSkipping line 582: expected 1 fields, saw 3\\nSkipping line 588: expected 1 fields, saw 3\\nSkipping line 659: expected 1 fields, saw 3\\nSkipping line 664: expected 1 fields, saw 3\\nSkipping line 665: expected 1 fields, saw 8\\nSkipping line 710: expected 1 fields, saw 7\\nSkipping line 768: expected 1 fields, saw 2\\nSkipping line 771: expected 1 fields, saw 2\\nSkipping line 791: expected 1 fields, saw 2\\nSkipping line 824: expected 1 fields, saw 2\\nSkipping line 825: expected 1 fields, saw 3\\nSkipping line 826: expected 1 fields, saw 3\\nSkipping line 827: expected 1 fields, saw 3\\nSkipping line 828: expected 1 fields, saw 3\\nSkipping line 829: expected 1 fields, saw 3\\nSkipping line 837: expected 1 fields, saw 3\\nSkipping line 838: expected 1 fields, saw 3\\nSkipping line 839: expected 1 fields, saw 3\\nSkipping line 840: expected 1 fields, saw 3\\nSkipping line 841: expected 1 fields, saw 3\\nSkipping line 842: expected 1 fields, saw 3\\n'\n"
          ],
          "name": "stderr"
        },
        {
          "output_type": "execute_result",
          "data": {
            "text/plain": [
              "(81415, 50)"
            ]
          },
          "metadata": {
            "tags": []
          },
          "execution_count": 44
        }
      ]
    },
    {
      "cell_type": "code",
      "metadata": {
        "id": "AtI3zdkKe425",
        "colab_type": "code",
        "colab": {}
      },
      "source": [
        "# Reading the data into python with \"pandas\"\n",
        "# data=pd.read_csv('training_data.csv',header=0,skiprows=0,engine='python')\n",
        "# data.shape"
      ],
      "execution_count": null,
      "outputs": []
    },
    {
      "cell_type": "code",
      "metadata": {
        "scrolled": true,
        "id": "YetH8b7ze42_",
        "colab_type": "code",
        "colab": {
          "base_uri": "https://localhost:8080/",
          "height": 316
        },
        "outputId": "94284aea-ba2e-42be-ea52-67750503d18d"
      },
      "source": [
        "# printing out first 5 observations\n",
        "data.head()"
      ],
      "execution_count": null,
      "outputs": [
        {
          "output_type": "execute_result",
          "data": {
            "text/html": [
              "<div>\n",
              "<style scoped>\n",
              "    .dataframe tbody tr th:only-of-type {\n",
              "        vertical-align: middle;\n",
              "    }\n",
              "\n",
              "    .dataframe tbody tr th {\n",
              "        vertical-align: top;\n",
              "    }\n",
              "\n",
              "    .dataframe thead th {\n",
              "        text-align: right;\n",
              "    }\n",
              "</style>\n",
              "<table border=\"1\" class=\"dataframe\">\n",
              "  <thead>\n",
              "    <tr style=\"text-align: right;\">\n",
              "      <th></th>\n",
              "      <th>encounter_id</th>\n",
              "      <th>patient_nbr</th>\n",
              "      <th>race</th>\n",
              "      <th>gender</th>\n",
              "      <th>age</th>\n",
              "      <th>weight</th>\n",
              "      <th>admission_type_id</th>\n",
              "      <th>discharge_disposition_id</th>\n",
              "      <th>admission_source_id</th>\n",
              "      <th>time_in_hospital</th>\n",
              "      <th>payer_code</th>\n",
              "      <th>medical_specialty</th>\n",
              "      <th>num_lab_procedures</th>\n",
              "      <th>num_procedures</th>\n",
              "      <th>num_medications</th>\n",
              "      <th>number_outpatient</th>\n",
              "      <th>number_emergency</th>\n",
              "      <th>number_inpatient</th>\n",
              "      <th>diag_1</th>\n",
              "      <th>diag_2</th>\n",
              "      <th>diag_3</th>\n",
              "      <th>number_diagnoses</th>\n",
              "      <th>max_glu_serum</th>\n",
              "      <th>A1Cresult</th>\n",
              "      <th>metformin</th>\n",
              "      <th>repaglinide</th>\n",
              "      <th>nateglinide</th>\n",
              "      <th>chlorpropamide</th>\n",
              "      <th>glimepiride</th>\n",
              "      <th>acetohexamide</th>\n",
              "      <th>glipizide</th>\n",
              "      <th>glyburide</th>\n",
              "      <th>tolbutamide</th>\n",
              "      <th>pioglitazone</th>\n",
              "      <th>rosiglitazone</th>\n",
              "      <th>acarbose</th>\n",
              "      <th>miglitol</th>\n",
              "      <th>troglitazone</th>\n",
              "      <th>tolazamide</th>\n",
              "      <th>examide</th>\n",
              "      <th>citoglipton</th>\n",
              "      <th>insulin</th>\n",
              "      <th>glyburide-metformin</th>\n",
              "      <th>glipizide-metformin</th>\n",
              "      <th>glimepiride-pioglitazone</th>\n",
              "      <th>metformin-rosiglitazone</th>\n",
              "      <th>metformin-pioglitazone</th>\n",
              "      <th>change</th>\n",
              "      <th>diabetesMed</th>\n",
              "      <th>readmitted</th>\n",
              "    </tr>\n",
              "  </thead>\n",
              "  <tbody>\n",
              "    <tr>\n",
              "      <th>0</th>\n",
              "      <td>2278392</td>\n",
              "      <td>8222157</td>\n",
              "      <td>Caucasian</td>\n",
              "      <td>Female</td>\n",
              "      <td>[0-10)</td>\n",
              "      <td>NaN</td>\n",
              "      <td>6</td>\n",
              "      <td>25</td>\n",
              "      <td>1</td>\n",
              "      <td>1</td>\n",
              "      <td>NaN</td>\n",
              "      <td>Pediatrics-Endocrinology</td>\n",
              "      <td>41</td>\n",
              "      <td>0</td>\n",
              "      <td>1</td>\n",
              "      <td>0</td>\n",
              "      <td>0</td>\n",
              "      <td>0</td>\n",
              "      <td>250.83</td>\n",
              "      <td>NaN</td>\n",
              "      <td>NaN</td>\n",
              "      <td>1</td>\n",
              "      <td>None</td>\n",
              "      <td>None</td>\n",
              "      <td>No</td>\n",
              "      <td>No</td>\n",
              "      <td>No</td>\n",
              "      <td>No</td>\n",
              "      <td>No</td>\n",
              "      <td>No</td>\n",
              "      <td>No</td>\n",
              "      <td>No</td>\n",
              "      <td>No</td>\n",
              "      <td>No</td>\n",
              "      <td>No</td>\n",
              "      <td>No</td>\n",
              "      <td>No</td>\n",
              "      <td>No</td>\n",
              "      <td>No</td>\n",
              "      <td>No</td>\n",
              "      <td>No</td>\n",
              "      <td>No</td>\n",
              "      <td>No</td>\n",
              "      <td>No</td>\n",
              "      <td>No</td>\n",
              "      <td>No</td>\n",
              "      <td>No</td>\n",
              "      <td>No</td>\n",
              "      <td>No</td>\n",
              "      <td>N</td>\n",
              "    </tr>\n",
              "    <tr>\n",
              "      <th>1</th>\n",
              "      <td>149190</td>\n",
              "      <td>55629189</td>\n",
              "      <td>Caucasian</td>\n",
              "      <td>Female</td>\n",
              "      <td>[10-20)</td>\n",
              "      <td>NaN</td>\n",
              "      <td>1</td>\n",
              "      <td>1</td>\n",
              "      <td>7</td>\n",
              "      <td>3</td>\n",
              "      <td>NaN</td>\n",
              "      <td>NaN</td>\n",
              "      <td>59</td>\n",
              "      <td>0</td>\n",
              "      <td>18</td>\n",
              "      <td>0</td>\n",
              "      <td>0</td>\n",
              "      <td>0</td>\n",
              "      <td>276</td>\n",
              "      <td>250.01</td>\n",
              "      <td>255</td>\n",
              "      <td>9</td>\n",
              "      <td>None</td>\n",
              "      <td>None</td>\n",
              "      <td>No</td>\n",
              "      <td>No</td>\n",
              "      <td>No</td>\n",
              "      <td>No</td>\n",
              "      <td>No</td>\n",
              "      <td>No</td>\n",
              "      <td>No</td>\n",
              "      <td>No</td>\n",
              "      <td>No</td>\n",
              "      <td>No</td>\n",
              "      <td>No</td>\n",
              "      <td>No</td>\n",
              "      <td>No</td>\n",
              "      <td>No</td>\n",
              "      <td>No</td>\n",
              "      <td>No</td>\n",
              "      <td>No</td>\n",
              "      <td>Up</td>\n",
              "      <td>No</td>\n",
              "      <td>No</td>\n",
              "      <td>No</td>\n",
              "      <td>No</td>\n",
              "      <td>No</td>\n",
              "      <td>Ch</td>\n",
              "      <td>Yes</td>\n",
              "      <td>N</td>\n",
              "    </tr>\n",
              "    <tr>\n",
              "      <th>2</th>\n",
              "      <td>64410</td>\n",
              "      <td>86047875</td>\n",
              "      <td>AfricanAmerican</td>\n",
              "      <td>Female</td>\n",
              "      <td>[20-30)</td>\n",
              "      <td>NaN</td>\n",
              "      <td>1</td>\n",
              "      <td>1</td>\n",
              "      <td>7</td>\n",
              "      <td>2</td>\n",
              "      <td>NaN</td>\n",
              "      <td>NaN</td>\n",
              "      <td>11</td>\n",
              "      <td>5</td>\n",
              "      <td>13</td>\n",
              "      <td>2</td>\n",
              "      <td>0</td>\n",
              "      <td>1</td>\n",
              "      <td>648</td>\n",
              "      <td>250</td>\n",
              "      <td>V27</td>\n",
              "      <td>6</td>\n",
              "      <td>None</td>\n",
              "      <td>None</td>\n",
              "      <td>No</td>\n",
              "      <td>No</td>\n",
              "      <td>No</td>\n",
              "      <td>No</td>\n",
              "      <td>No</td>\n",
              "      <td>No</td>\n",
              "      <td>Steady</td>\n",
              "      <td>No</td>\n",
              "      <td>No</td>\n",
              "      <td>No</td>\n",
              "      <td>No</td>\n",
              "      <td>No</td>\n",
              "      <td>No</td>\n",
              "      <td>No</td>\n",
              "      <td>No</td>\n",
              "      <td>No</td>\n",
              "      <td>No</td>\n",
              "      <td>No</td>\n",
              "      <td>No</td>\n",
              "      <td>No</td>\n",
              "      <td>No</td>\n",
              "      <td>No</td>\n",
              "      <td>No</td>\n",
              "      <td>No</td>\n",
              "      <td>Yes</td>\n",
              "      <td>N</td>\n",
              "    </tr>\n",
              "    <tr>\n",
              "      <th>3</th>\n",
              "      <td>500364</td>\n",
              "      <td>82442376</td>\n",
              "      <td>Caucasian</td>\n",
              "      <td>Male</td>\n",
              "      <td>[30-40)</td>\n",
              "      <td>NaN</td>\n",
              "      <td>1</td>\n",
              "      <td>1</td>\n",
              "      <td>7</td>\n",
              "      <td>2</td>\n",
              "      <td>NaN</td>\n",
              "      <td>NaN</td>\n",
              "      <td>44</td>\n",
              "      <td>1</td>\n",
              "      <td>16</td>\n",
              "      <td>0</td>\n",
              "      <td>0</td>\n",
              "      <td>0</td>\n",
              "      <td>8</td>\n",
              "      <td>250.43</td>\n",
              "      <td>403</td>\n",
              "      <td>7</td>\n",
              "      <td>None</td>\n",
              "      <td>None</td>\n",
              "      <td>No</td>\n",
              "      <td>No</td>\n",
              "      <td>No</td>\n",
              "      <td>No</td>\n",
              "      <td>No</td>\n",
              "      <td>No</td>\n",
              "      <td>No</td>\n",
              "      <td>No</td>\n",
              "      <td>No</td>\n",
              "      <td>No</td>\n",
              "      <td>No</td>\n",
              "      <td>No</td>\n",
              "      <td>No</td>\n",
              "      <td>No</td>\n",
              "      <td>No</td>\n",
              "      <td>No</td>\n",
              "      <td>No</td>\n",
              "      <td>Up</td>\n",
              "      <td>No</td>\n",
              "      <td>No</td>\n",
              "      <td>No</td>\n",
              "      <td>No</td>\n",
              "      <td>No</td>\n",
              "      <td>Ch</td>\n",
              "      <td>Yes</td>\n",
              "      <td>N</td>\n",
              "    </tr>\n",
              "    <tr>\n",
              "      <th>4</th>\n",
              "      <td>16680</td>\n",
              "      <td>42519267</td>\n",
              "      <td>Caucasian</td>\n",
              "      <td>Male</td>\n",
              "      <td>[40-50)</td>\n",
              "      <td>NaN</td>\n",
              "      <td>1</td>\n",
              "      <td>1</td>\n",
              "      <td>7</td>\n",
              "      <td>1</td>\n",
              "      <td>NaN</td>\n",
              "      <td>NaN</td>\n",
              "      <td>51</td>\n",
              "      <td>0</td>\n",
              "      <td>8</td>\n",
              "      <td>0</td>\n",
              "      <td>0</td>\n",
              "      <td>0</td>\n",
              "      <td>197</td>\n",
              "      <td>157</td>\n",
              "      <td>250</td>\n",
              "      <td>5</td>\n",
              "      <td>None</td>\n",
              "      <td>None</td>\n",
              "      <td>No</td>\n",
              "      <td>No</td>\n",
              "      <td>No</td>\n",
              "      <td>No</td>\n",
              "      <td>No</td>\n",
              "      <td>No</td>\n",
              "      <td>Steady</td>\n",
              "      <td>No</td>\n",
              "      <td>No</td>\n",
              "      <td>No</td>\n",
              "      <td>No</td>\n",
              "      <td>No</td>\n",
              "      <td>No</td>\n",
              "      <td>No</td>\n",
              "      <td>No</td>\n",
              "      <td>No</td>\n",
              "      <td>No</td>\n",
              "      <td>Steady</td>\n",
              "      <td>No</td>\n",
              "      <td>No</td>\n",
              "      <td>No</td>\n",
              "      <td>No</td>\n",
              "      <td>No</td>\n",
              "      <td>Ch</td>\n",
              "      <td>Yes</td>\n",
              "      <td>N</td>\n",
              "    </tr>\n",
              "  </tbody>\n",
              "</table>\n",
              "</div>"
            ],
            "text/plain": [
              "   encounter_id  patient_nbr             race  ... change diabetesMed readmitted\n",
              "0       2278392      8222157        Caucasian  ...     No          No          N\n",
              "1        149190     55629189        Caucasian  ...     Ch         Yes          N\n",
              "2         64410     86047875  AfricanAmerican  ...     No         Yes          N\n",
              "3        500364     82442376        Caucasian  ...     Ch         Yes          N\n",
              "4         16680     42519267        Caucasian  ...     Ch         Yes          N\n",
              "\n",
              "[5 rows x 50 columns]"
            ]
          },
          "metadata": {
            "tags": []
          },
          "execution_count": 45
        }
      ]
    },
    {
      "cell_type": "code",
      "metadata": {
        "id": "6ZlLaAzHe43B",
        "colab_type": "code",
        "colab": {
          "base_uri": "https://localhost:8080/",
          "height": 991
        },
        "outputId": "8a9efcec-a18b-4582-d0c2-43d5190d6235"
      },
      "source": [
        "#Printing all the columns in the dataset\n",
        "print(data.info())"
      ],
      "execution_count": null,
      "outputs": [
        {
          "output_type": "stream",
          "text": [
            "<class 'pandas.core.frame.DataFrame'>\n",
            "RangeIndex: 81415 entries, 0 to 81414\n",
            "Data columns (total 50 columns):\n",
            " #   Column                    Non-Null Count  Dtype \n",
            "---  ------                    --------------  ----- \n",
            " 0   encounter_id              81415 non-null  int64 \n",
            " 1   patient_nbr               81415 non-null  int64 \n",
            " 2   race                      79602 non-null  object\n",
            " 3   gender                    81413 non-null  object\n",
            " 4   age                       81415 non-null  object\n",
            " 5   weight                    2570 non-null   object\n",
            " 6   admission_type_id         81415 non-null  int64 \n",
            " 7   discharge_disposition_id  81415 non-null  int64 \n",
            " 8   admission_source_id       81415 non-null  int64 \n",
            " 9   time_in_hospital          81415 non-null  int64 \n",
            " 10  payer_code                49183 non-null  object\n",
            " 11  medical_specialty         41479 non-null  object\n",
            " 12  num_lab_procedures        81415 non-null  int64 \n",
            " 13  num_procedures            81415 non-null  int64 \n",
            " 14  num_medications           81415 non-null  int64 \n",
            " 15  number_outpatient         81415 non-null  int64 \n",
            " 16  number_emergency          81415 non-null  int64 \n",
            " 17  number_inpatient          81415 non-null  int64 \n",
            " 18  diag_1                    81397 non-null  object\n",
            " 19  diag_2                    81127 non-null  object\n",
            " 20  diag_3                    80290 non-null  object\n",
            " 21  number_diagnoses          81415 non-null  int64 \n",
            " 22  max_glu_serum             81415 non-null  object\n",
            " 23  A1Cresult                 81415 non-null  object\n",
            " 24  metformin                 81415 non-null  object\n",
            " 25  repaglinide               81415 non-null  object\n",
            " 26  nateglinide               81415 non-null  object\n",
            " 27  chlorpropamide            81415 non-null  object\n",
            " 28  glimepiride               81415 non-null  object\n",
            " 29  acetohexamide             81415 non-null  object\n",
            " 30  glipizide                 81415 non-null  object\n",
            " 31  glyburide                 81415 non-null  object\n",
            " 32  tolbutamide               81415 non-null  object\n",
            " 33  pioglitazone              81415 non-null  object\n",
            " 34  rosiglitazone             81415 non-null  object\n",
            " 35  acarbose                  81415 non-null  object\n",
            " 36  miglitol                  81415 non-null  object\n",
            " 37  troglitazone              81415 non-null  object\n",
            " 38  tolazamide                81415 non-null  object\n",
            " 39  examide                   81415 non-null  object\n",
            " 40  citoglipton               81415 non-null  object\n",
            " 41  insulin                   81415 non-null  object\n",
            " 42  glyburide-metformin       81415 non-null  object\n",
            " 43  glipizide-metformin       81415 non-null  object\n",
            " 44  glimepiride-pioglitazone  81415 non-null  object\n",
            " 45  metformin-rosiglitazone   81415 non-null  object\n",
            " 46  metformin-pioglitazone    81415 non-null  object\n",
            " 47  change                    81415 non-null  object\n",
            " 48  diabetesMed               81415 non-null  object\n",
            " 49  readmitted                81415 non-null  object\n",
            "dtypes: int64(13), object(37)\n",
            "memory usage: 31.1+ MB\n",
            "None\n"
          ],
          "name": "stdout"
        }
      ]
    },
    {
      "cell_type": "code",
      "metadata": {
        "scrolled": true,
        "id": "BkP-y7TTe43E",
        "colab_type": "code",
        "colab": {
          "base_uri": "https://localhost:8080/",
          "height": 188
        },
        "outputId": "cc80738c-55a5-4134-8230-e4c7d5183921"
      },
      "source": [
        "#Descriptive statistics of all the rows\n",
        "pd.set_option('display.expand_frame_repr', False)\n",
        "print(data.describe())"
      ],
      "execution_count": null,
      "outputs": [
        {
          "output_type": "stream",
          "text": [
            "       encounter_id   patient_nbr  admission_type_id  discharge_disposition_id  admission_source_id  time_in_hospital  num_lab_procedures  num_procedures  num_medications  number_outpatient  number_emergency  number_inpatient  number_diagnoses\n",
            "count  8.141500e+04  8.141500e+04       81415.000000              81415.000000         81415.000000      81415.000000        81415.000000    81415.000000     81415.000000       81415.000000      81415.000000      81415.000000      81415.000000\n",
            "mean   1.652046e+08  5.431108e+07           2.020905                  3.709845             5.753792          4.398354           43.158165        1.338721        16.028950           0.365682          0.199435          0.635792          7.421826\n",
            "std    1.025362e+08  3.869611e+07           1.445323                  5.267962             4.052096          2.985410           19.680093        1.705755         8.122102           1.235747          0.964605          1.262968          1.933431\n",
            "min    1.252200e+04  1.350000e+02           1.000000                  1.000000             1.000000          1.000000            1.000000        0.000000         1.000000           0.000000          0.000000          0.000000          1.000000\n",
            "25%    8.507869e+07  2.340366e+07           1.000000                  1.000000             1.000000          2.000000           31.000000        0.000000        10.000000           0.000000          0.000000          0.000000          6.000000\n",
            "50%    1.524409e+08  4.553329e+07           1.000000                  1.000000             7.000000          4.000000           44.000000        1.000000        15.000000           0.000000          0.000000          0.000000          8.000000\n",
            "75%    2.301480e+08  8.750458e+07           3.000000                  3.000000             7.000000          6.000000           57.000000        2.000000        20.000000           0.000000          0.000000          1.000000          9.000000\n",
            "max    4.438672e+08  1.895026e+08           8.000000                 28.000000            25.000000         14.000000          132.000000        6.000000        81.000000          42.000000         76.000000         21.000000         16.000000\n"
          ],
          "name": "stdout"
        }
      ]
    },
    {
      "cell_type": "markdown",
      "metadata": {
        "id": "c0ihVqV4e43H",
        "colab_type": "text"
      },
      "source": [
        "Before we do analysis we need to make sure that there are no duplicate rows.<br> \n",
        "By looking at the data we can confirm that encounter_id is unique and we are checking if there are any duplicate encounter_ids and we find that there aren't any."
      ]
    },
    {
      "cell_type": "code",
      "metadata": {
        "id": "yeWjf2H3e43I",
        "colab_type": "code",
        "colab": {
          "base_uri": "https://localhost:8080/",
          "height": 130
        },
        "outputId": "fb06e7c3-c5b7-4080-dcb1-4e59bd1396b1"
      },
      "source": [
        "ids = data['encounter_id']\n",
        "data[ids.duplicated()]"
      ],
      "execution_count": null,
      "outputs": [
        {
          "output_type": "execute_result",
          "data": {
            "text/html": [
              "<div>\n",
              "<style scoped>\n",
              "    .dataframe tbody tr th:only-of-type {\n",
              "        vertical-align: middle;\n",
              "    }\n",
              "\n",
              "    .dataframe tbody tr th {\n",
              "        vertical-align: top;\n",
              "    }\n",
              "\n",
              "    .dataframe thead th {\n",
              "        text-align: right;\n",
              "    }\n",
              "</style>\n",
              "<table border=\"1\" class=\"dataframe\">\n",
              "  <thead>\n",
              "    <tr style=\"text-align: right;\">\n",
              "      <th></th>\n",
              "      <th>encounter_id</th>\n",
              "      <th>patient_nbr</th>\n",
              "      <th>race</th>\n",
              "      <th>gender</th>\n",
              "      <th>age</th>\n",
              "      <th>weight</th>\n",
              "      <th>admission_type_id</th>\n",
              "      <th>discharge_disposition_id</th>\n",
              "      <th>admission_source_id</th>\n",
              "      <th>time_in_hospital</th>\n",
              "      <th>payer_code</th>\n",
              "      <th>medical_specialty</th>\n",
              "      <th>num_lab_procedures</th>\n",
              "      <th>num_procedures</th>\n",
              "      <th>num_medications</th>\n",
              "      <th>number_outpatient</th>\n",
              "      <th>number_emergency</th>\n",
              "      <th>number_inpatient</th>\n",
              "      <th>diag_1</th>\n",
              "      <th>diag_2</th>\n",
              "      <th>diag_3</th>\n",
              "      <th>number_diagnoses</th>\n",
              "      <th>max_glu_serum</th>\n",
              "      <th>A1Cresult</th>\n",
              "      <th>metformin</th>\n",
              "      <th>repaglinide</th>\n",
              "      <th>nateglinide</th>\n",
              "      <th>chlorpropamide</th>\n",
              "      <th>glimepiride</th>\n",
              "      <th>acetohexamide</th>\n",
              "      <th>glipizide</th>\n",
              "      <th>glyburide</th>\n",
              "      <th>tolbutamide</th>\n",
              "      <th>pioglitazone</th>\n",
              "      <th>rosiglitazone</th>\n",
              "      <th>acarbose</th>\n",
              "      <th>miglitol</th>\n",
              "      <th>troglitazone</th>\n",
              "      <th>tolazamide</th>\n",
              "      <th>examide</th>\n",
              "      <th>citoglipton</th>\n",
              "      <th>insulin</th>\n",
              "      <th>glyburide-metformin</th>\n",
              "      <th>glipizide-metformin</th>\n",
              "      <th>glimepiride-pioglitazone</th>\n",
              "      <th>metformin-rosiglitazone</th>\n",
              "      <th>metformin-pioglitazone</th>\n",
              "      <th>change</th>\n",
              "      <th>diabetesMed</th>\n",
              "      <th>readmitted</th>\n",
              "    </tr>\n",
              "  </thead>\n",
              "  <tbody>\n",
              "    <tr>\n",
              "      <th>81414</th>\n",
              "      <td>443867222</td>\n",
              "      <td>175429310</td>\n",
              "      <td>Caucasian</td>\n",
              "      <td>Male</td>\n",
              "      <td>[70-80)</td>\n",
              "      <td>NaN</td>\n",
              "      <td>1</td>\n",
              "      <td>1</td>\n",
              "      <td>7</td>\n",
              "      <td>6</td>\n",
              "      <td>NaN</td>\n",
              "      <td>NaN</td>\n",
              "      <td>13</td>\n",
              "      <td>3</td>\n",
              "      <td>3</td>\n",
              "      <td>0</td>\n",
              "      <td>0</td>\n",
              "      <td>0</td>\n",
              "      <td>530</td>\n",
              "      <td>530</td>\n",
              "      <td>787</td>\n",
              "      <td>9</td>\n",
              "      <td>None</td>\n",
              "      <td>None</td>\n",
              "      <td>No</td>\n",
              "      <td>No</td>\n",
              "      <td>No</td>\n",
              "      <td>No</td>\n",
              "      <td>No</td>\n",
              "      <td>No</td>\n",
              "      <td>No</td>\n",
              "      <td>No</td>\n",
              "      <td>No</td>\n",
              "      <td>No</td>\n",
              "      <td>No</td>\n",
              "      <td>No</td>\n",
              "      <td>No</td>\n",
              "      <td>No</td>\n",
              "      <td>No</td>\n",
              "      <td>No</td>\n",
              "      <td>No</td>\n",
              "      <td>No</td>\n",
              "      <td>No</td>\n",
              "      <td>No</td>\n",
              "      <td>No</td>\n",
              "      <td>No</td>\n",
              "      <td>No</td>\n",
              "      <td>No</td>\n",
              "      <td>No</td>\n",
              "      <td>N</td>\n",
              "    </tr>\n",
              "  </tbody>\n",
              "</table>\n",
              "</div>"
            ],
            "text/plain": [
              "       encounter_id  patient_nbr       race gender      age weight  admission_type_id  discharge_disposition_id  admission_source_id  time_in_hospital payer_code medical_specialty  num_lab_procedures  num_procedures  num_medications  number_outpatient  number_emergency  number_inpatient diag_1 diag_2 diag_3  number_diagnoses max_glu_serum A1Cresult metformin repaglinide nateglinide chlorpropamide glimepiride acetohexamide glipizide glyburide tolbutamide pioglitazone rosiglitazone acarbose miglitol troglitazone tolazamide examide citoglipton insulin glyburide-metformin glipizide-metformin glimepiride-pioglitazone metformin-rosiglitazone metformin-pioglitazone change diabetesMed readmitted\n",
              "81414     443867222    175429310  Caucasian   Male  [70-80)    NaN                  1                         1                    7                 6        NaN               NaN                  13               3                3                  0                 0                 0    530    530    787                 9          None      None        No          No          No             No          No            No        No        No          No           No            No       No       No           No         No      No          No      No                  No                  No                       No                      No                     No     No          No          N"
            ]
          },
          "metadata": {
            "tags": []
          },
          "execution_count": 49
        }
      ]
    },
    {
      "cell_type": "code",
      "metadata": {
        "id": "w14_qUVQe43L",
        "colab_type": "code",
        "colab": {
          "base_uri": "https://localhost:8080/",
          "height": 177
        },
        "outputId": "750ae1ea-6f38-4ed0-f676-a18c1f3d60d9"
      },
      "source": [
        "#checking if there are any duplicates in encounter_id - no duplicates found\n",
        "ids = data['encounter_id']\n",
        "data[ids.isin(ids[ids.duplicated()])]"
      ],
      "execution_count": null,
      "outputs": [
        {
          "output_type": "execute_result",
          "data": {
            "text/html": [
              "<div>\n",
              "<style scoped>\n",
              "    .dataframe tbody tr th:only-of-type {\n",
              "        vertical-align: middle;\n",
              "    }\n",
              "\n",
              "    .dataframe tbody tr th {\n",
              "        vertical-align: top;\n",
              "    }\n",
              "\n",
              "    .dataframe thead th {\n",
              "        text-align: right;\n",
              "    }\n",
              "</style>\n",
              "<table border=\"1\" class=\"dataframe\">\n",
              "  <thead>\n",
              "    <tr style=\"text-align: right;\">\n",
              "      <th></th>\n",
              "      <th>encounter_id</th>\n",
              "      <th>patient_nbr</th>\n",
              "      <th>race</th>\n",
              "      <th>gender</th>\n",
              "      <th>age</th>\n",
              "      <th>weight</th>\n",
              "      <th>admission_type_id</th>\n",
              "      <th>discharge_disposition_id</th>\n",
              "      <th>admission_source_id</th>\n",
              "      <th>time_in_hospital</th>\n",
              "      <th>payer_code</th>\n",
              "      <th>medical_specialty</th>\n",
              "      <th>num_lab_procedures</th>\n",
              "      <th>num_procedures</th>\n",
              "      <th>num_medications</th>\n",
              "      <th>number_outpatient</th>\n",
              "      <th>number_emergency</th>\n",
              "      <th>number_inpatient</th>\n",
              "      <th>diag_1</th>\n",
              "      <th>diag_2</th>\n",
              "      <th>diag_3</th>\n",
              "      <th>number_diagnoses</th>\n",
              "      <th>max_glu_serum</th>\n",
              "      <th>A1Cresult</th>\n",
              "      <th>metformin</th>\n",
              "      <th>repaglinide</th>\n",
              "      <th>nateglinide</th>\n",
              "      <th>chlorpropamide</th>\n",
              "      <th>glimepiride</th>\n",
              "      <th>acetohexamide</th>\n",
              "      <th>glipizide</th>\n",
              "      <th>glyburide</th>\n",
              "      <th>tolbutamide</th>\n",
              "      <th>pioglitazone</th>\n",
              "      <th>rosiglitazone</th>\n",
              "      <th>acarbose</th>\n",
              "      <th>miglitol</th>\n",
              "      <th>troglitazone</th>\n",
              "      <th>tolazamide</th>\n",
              "      <th>examide</th>\n",
              "      <th>citoglipton</th>\n",
              "      <th>insulin</th>\n",
              "      <th>glyburide-metformin</th>\n",
              "      <th>glipizide-metformin</th>\n",
              "      <th>glimepiride-pioglitazone</th>\n",
              "      <th>metformin-rosiglitazone</th>\n",
              "      <th>metformin-pioglitazone</th>\n",
              "      <th>change</th>\n",
              "      <th>diabetesMed</th>\n",
              "      <th>readmitted</th>\n",
              "    </tr>\n",
              "  </thead>\n",
              "  <tbody>\n",
              "    <tr>\n",
              "      <th>81413</th>\n",
              "      <td>443867222</td>\n",
              "      <td>175429310</td>\n",
              "      <td>Caucasian</td>\n",
              "      <td>Male</td>\n",
              "      <td>[70-80)</td>\n",
              "      <td>NaN</td>\n",
              "      <td>1</td>\n",
              "      <td>1</td>\n",
              "      <td>7</td>\n",
              "      <td>6</td>\n",
              "      <td>NaN</td>\n",
              "      <td>NaN</td>\n",
              "      <td>13</td>\n",
              "      <td>3</td>\n",
              "      <td>3</td>\n",
              "      <td>0</td>\n",
              "      <td>0</td>\n",
              "      <td>0</td>\n",
              "      <td>530</td>\n",
              "      <td>530</td>\n",
              "      <td>787</td>\n",
              "      <td>9</td>\n",
              "      <td>None</td>\n",
              "      <td>None</td>\n",
              "      <td>No</td>\n",
              "      <td>No</td>\n",
              "      <td>No</td>\n",
              "      <td>No</td>\n",
              "      <td>No</td>\n",
              "      <td>No</td>\n",
              "      <td>No</td>\n",
              "      <td>No</td>\n",
              "      <td>No</td>\n",
              "      <td>No</td>\n",
              "      <td>No</td>\n",
              "      <td>No</td>\n",
              "      <td>No</td>\n",
              "      <td>No</td>\n",
              "      <td>No</td>\n",
              "      <td>No</td>\n",
              "      <td>No</td>\n",
              "      <td>No</td>\n",
              "      <td>No</td>\n",
              "      <td>No</td>\n",
              "      <td>No</td>\n",
              "      <td>No</td>\n",
              "      <td>No</td>\n",
              "      <td>No</td>\n",
              "      <td>No</td>\n",
              "      <td>N</td>\n",
              "    </tr>\n",
              "    <tr>\n",
              "      <th>81414</th>\n",
              "      <td>443867222</td>\n",
              "      <td>175429310</td>\n",
              "      <td>Caucasian</td>\n",
              "      <td>Male</td>\n",
              "      <td>[70-80)</td>\n",
              "      <td>NaN</td>\n",
              "      <td>1</td>\n",
              "      <td>1</td>\n",
              "      <td>7</td>\n",
              "      <td>6</td>\n",
              "      <td>NaN</td>\n",
              "      <td>NaN</td>\n",
              "      <td>13</td>\n",
              "      <td>3</td>\n",
              "      <td>3</td>\n",
              "      <td>0</td>\n",
              "      <td>0</td>\n",
              "      <td>0</td>\n",
              "      <td>530</td>\n",
              "      <td>530</td>\n",
              "      <td>787</td>\n",
              "      <td>9</td>\n",
              "      <td>None</td>\n",
              "      <td>None</td>\n",
              "      <td>No</td>\n",
              "      <td>No</td>\n",
              "      <td>No</td>\n",
              "      <td>No</td>\n",
              "      <td>No</td>\n",
              "      <td>No</td>\n",
              "      <td>No</td>\n",
              "      <td>No</td>\n",
              "      <td>No</td>\n",
              "      <td>No</td>\n",
              "      <td>No</td>\n",
              "      <td>No</td>\n",
              "      <td>No</td>\n",
              "      <td>No</td>\n",
              "      <td>No</td>\n",
              "      <td>No</td>\n",
              "      <td>No</td>\n",
              "      <td>No</td>\n",
              "      <td>No</td>\n",
              "      <td>No</td>\n",
              "      <td>No</td>\n",
              "      <td>No</td>\n",
              "      <td>No</td>\n",
              "      <td>No</td>\n",
              "      <td>No</td>\n",
              "      <td>N</td>\n",
              "    </tr>\n",
              "  </tbody>\n",
              "</table>\n",
              "</div>"
            ],
            "text/plain": [
              "       encounter_id  patient_nbr       race gender      age weight  admission_type_id  discharge_disposition_id  admission_source_id  time_in_hospital payer_code medical_specialty  num_lab_procedures  num_procedures  num_medications  number_outpatient  number_emergency  number_inpatient diag_1 diag_2 diag_3  number_diagnoses max_glu_serum A1Cresult metformin repaglinide nateglinide chlorpropamide glimepiride acetohexamide glipizide glyburide tolbutamide pioglitazone rosiglitazone acarbose miglitol troglitazone tolazamide examide citoglipton insulin glyburide-metformin glipizide-metformin glimepiride-pioglitazone metformin-rosiglitazone metformin-pioglitazone change diabetesMed readmitted\n",
              "81413     443867222    175429310  Caucasian   Male  [70-80)    NaN                  1                         1                    7                 6        NaN               NaN                  13               3                3                  0                 0                 0    530    530    787                 9          None      None        No          No          No             No          No            No        No        No          No           No            No       No       No           No         No      No          No      No                  No                  No                       No                      No                     No     No          No          N\n",
              "81414     443867222    175429310  Caucasian   Male  [70-80)    NaN                  1                         1                    7                 6        NaN               NaN                  13               3                3                  0                 0                 0    530    530    787                 9          None      None        No          No          No             No          No            No        No        No          No           No            No       No       No           No         No      No          No      No                  No                  No                       No                      No                     No     No          No          N"
            ]
          },
          "metadata": {
            "tags": []
          },
          "execution_count": 50
        }
      ]
    },
    {
      "cell_type": "code",
      "metadata": {
        "id": "H0NSNW3_e43O",
        "colab_type": "code",
        "colab": {
          "base_uri": "https://localhost:8080/",
          "height": 118
        },
        "outputId": "7e0ca286-6cf2-48ca-aed2-92f54d0d63df"
      },
      "source": [
        "# remove duplicates and check again\n",
        "data = data.drop_duplicates()\n",
        "data[ids.duplicated()]"
      ],
      "execution_count": null,
      "outputs": [
        {
          "output_type": "stream",
          "text": [
            "/usr/local/lib/python3.6/dist-packages/ipykernel_launcher.py:3: UserWarning: Boolean Series key will be reindexed to match DataFrame index.\n",
            "  This is separate from the ipykernel package so we can avoid doing imports until\n"
          ],
          "name": "stderr"
        },
        {
          "output_type": "execute_result",
          "data": {
            "text/html": [
              "<div>\n",
              "<style scoped>\n",
              "    .dataframe tbody tr th:only-of-type {\n",
              "        vertical-align: middle;\n",
              "    }\n",
              "\n",
              "    .dataframe tbody tr th {\n",
              "        vertical-align: top;\n",
              "    }\n",
              "\n",
              "    .dataframe thead th {\n",
              "        text-align: right;\n",
              "    }\n",
              "</style>\n",
              "<table border=\"1\" class=\"dataframe\">\n",
              "  <thead>\n",
              "    <tr style=\"text-align: right;\">\n",
              "      <th></th>\n",
              "      <th>encounter_id</th>\n",
              "      <th>patient_nbr</th>\n",
              "      <th>race</th>\n",
              "      <th>gender</th>\n",
              "      <th>age</th>\n",
              "      <th>weight</th>\n",
              "      <th>admission_type_id</th>\n",
              "      <th>discharge_disposition_id</th>\n",
              "      <th>admission_source_id</th>\n",
              "      <th>time_in_hospital</th>\n",
              "      <th>payer_code</th>\n",
              "      <th>medical_specialty</th>\n",
              "      <th>num_lab_procedures</th>\n",
              "      <th>num_procedures</th>\n",
              "      <th>num_medications</th>\n",
              "      <th>number_outpatient</th>\n",
              "      <th>number_emergency</th>\n",
              "      <th>number_inpatient</th>\n",
              "      <th>diag_1</th>\n",
              "      <th>diag_2</th>\n",
              "      <th>diag_3</th>\n",
              "      <th>number_diagnoses</th>\n",
              "      <th>max_glu_serum</th>\n",
              "      <th>A1Cresult</th>\n",
              "      <th>metformin</th>\n",
              "      <th>repaglinide</th>\n",
              "      <th>nateglinide</th>\n",
              "      <th>chlorpropamide</th>\n",
              "      <th>glimepiride</th>\n",
              "      <th>acetohexamide</th>\n",
              "      <th>glipizide</th>\n",
              "      <th>glyburide</th>\n",
              "      <th>tolbutamide</th>\n",
              "      <th>pioglitazone</th>\n",
              "      <th>rosiglitazone</th>\n",
              "      <th>acarbose</th>\n",
              "      <th>miglitol</th>\n",
              "      <th>troglitazone</th>\n",
              "      <th>tolazamide</th>\n",
              "      <th>examide</th>\n",
              "      <th>citoglipton</th>\n",
              "      <th>insulin</th>\n",
              "      <th>glyburide-metformin</th>\n",
              "      <th>glipizide-metformin</th>\n",
              "      <th>glimepiride-pioglitazone</th>\n",
              "      <th>metformin-rosiglitazone</th>\n",
              "      <th>metformin-pioglitazone</th>\n",
              "      <th>change</th>\n",
              "      <th>diabetesMed</th>\n",
              "      <th>readmitted</th>\n",
              "    </tr>\n",
              "  </thead>\n",
              "  <tbody>\n",
              "  </tbody>\n",
              "</table>\n",
              "</div>"
            ],
            "text/plain": [
              "Empty DataFrame\n",
              "Columns: [encounter_id, patient_nbr, race, gender, age, weight, admission_type_id, discharge_disposition_id, admission_source_id, time_in_hospital, payer_code, medical_specialty, num_lab_procedures, num_procedures, num_medications, number_outpatient, number_emergency, number_inpatient, diag_1, diag_2, diag_3, number_diagnoses, max_glu_serum, A1Cresult, metformin, repaglinide, nateglinide, chlorpropamide, glimepiride, acetohexamide, glipizide, glyburide, tolbutamide, pioglitazone, rosiglitazone, acarbose, miglitol, troglitazone, tolazamide, examide, citoglipton, insulin, glyburide-metformin, glipizide-metformin, glimepiride-pioglitazone, metformin-rosiglitazone, metformin-pioglitazone, change, diabetesMed, readmitted]\n",
              "Index: []"
            ]
          },
          "metadata": {
            "tags": []
          },
          "execution_count": 51
        }
      ]
    },
    {
      "cell_type": "code",
      "metadata": {
        "id": "dvdDP7_me43R",
        "colab_type": "code",
        "colab": {}
      },
      "source": [
        "# Considering values with '?' as missing values.\n",
        "data = data.replace('?', np.NaN )"
      ],
      "execution_count": null,
      "outputs": []
    },
    {
      "cell_type": "code",
      "metadata": {
        "id": "3x9LZBiae43T",
        "colab_type": "code",
        "colab": {
          "base_uri": "https://localhost:8080/",
          "height": 34
        },
        "outputId": "fde96dde-f8c7-4167-a884-be3b643f2f2a"
      },
      "source": [
        "# Two observation is unknown in gender. Replace it as a null value\n",
        "print('gender', data['gender'][data['gender'] == 'Unknown/Invalid'].count())\n",
        "data = data.replace('Unknown/Invalid', np.NaN )"
      ],
      "execution_count": null,
      "outputs": [
        {
          "output_type": "stream",
          "text": [
            "gender 0\n"
          ],
          "name": "stdout"
        }
      ]
    },
    {
      "cell_type": "code",
      "metadata": {
        "scrolled": true,
        "id": "9kT9Kf5le43W",
        "colab_type": "code",
        "colab": {
          "base_uri": "https://localhost:8080/",
          "height": 874
        },
        "outputId": "e5bf5aad-6e77-4eb6-ea54-eb551fd8b089"
      },
      "source": [
        "# finding the number of null values in each column\n",
        "print(data.isnull().sum())"
      ],
      "execution_count": null,
      "outputs": [
        {
          "output_type": "stream",
          "text": [
            "encounter_id                    0\n",
            "patient_nbr                     0\n",
            "race                         1813\n",
            "gender                          2\n",
            "age                             0\n",
            "weight                      78844\n",
            "admission_type_id               0\n",
            "discharge_disposition_id        0\n",
            "admission_source_id             0\n",
            "time_in_hospital                0\n",
            "payer_code                  32231\n",
            "medical_specialty           39935\n",
            "num_lab_procedures              0\n",
            "num_procedures                  0\n",
            "num_medications                 0\n",
            "number_outpatient               0\n",
            "number_emergency                0\n",
            "number_inpatient                0\n",
            "diag_1                         18\n",
            "diag_2                        288\n",
            "diag_3                       1125\n",
            "number_diagnoses                0\n",
            "max_glu_serum                   0\n",
            "A1Cresult                       0\n",
            "metformin                       0\n",
            "repaglinide                     0\n",
            "nateglinide                     0\n",
            "chlorpropamide                  0\n",
            "glimepiride                     0\n",
            "acetohexamide                   0\n",
            "glipizide                       0\n",
            "glyburide                       0\n",
            "tolbutamide                     0\n",
            "pioglitazone                    0\n",
            "rosiglitazone                   0\n",
            "acarbose                        0\n",
            "miglitol                        0\n",
            "troglitazone                    0\n",
            "tolazamide                      0\n",
            "examide                         0\n",
            "citoglipton                     0\n",
            "insulin                         0\n",
            "glyburide-metformin             0\n",
            "glipizide-metformin             0\n",
            "glimepiride-pioglitazone        0\n",
            "metformin-rosiglitazone         0\n",
            "metformin-pioglitazone          0\n",
            "change                          0\n",
            "diabetesMed                     0\n",
            "readmitted                      0\n",
            "dtype: int64\n"
          ],
          "name": "stdout"
        }
      ]
    },
    {
      "cell_type": "markdown",
      "metadata": {
        "id": "nGYCnLr2e43Z",
        "colab_type": "text"
      },
      "source": [
        "Any row that has more than 40% missing values is rejected."
      ]
    },
    {
      "cell_type": "code",
      "metadata": {
        "id": "Fb6pv3n4e43Z",
        "colab_type": "code",
        "colab": {
          "base_uri": "https://localhost:8080/",
          "height": 34
        },
        "outputId": "2ff628df-39d0-4dbe-b998-077de42a1899"
      },
      "source": [
        "# Weight has almost 99% of missing data ; Payer_code and medical_speciality has around 45% of missing data. \n",
        "data.drop(['weight','payer_code','medical_specialty','diag_2', 'diag_3'],axis=1,inplace=True)\n",
        "data.shape"
      ],
      "execution_count": null,
      "outputs": [
        {
          "output_type": "execute_result",
          "data": {
            "text/plain": [
              "(81414, 45)"
            ]
          },
          "metadata": {
            "tags": []
          },
          "execution_count": 55
        }
      ]
    },
    {
      "cell_type": "code",
      "metadata": {
        "id": "9vQH8t6We43b",
        "colab_type": "code",
        "colab": {
          "base_uri": "https://localhost:8080/",
          "height": 34
        },
        "outputId": "77ae62c8-2bbf-4685-ba12-b8657400afc2"
      },
      "source": [
        "#Dropping rows with missing values\n",
        "data.dropna(inplace=True)\n",
        "data.shape"
      ],
      "execution_count": null,
      "outputs": [
        {
          "output_type": "execute_result",
          "data": {
            "text/plain": [
              "(79584, 45)"
            ]
          },
          "metadata": {
            "tags": []
          },
          "execution_count": 56
        }
      ]
    },
    {
      "cell_type": "code",
      "metadata": {
        "scrolled": true,
        "id": "c3r4vVX3e43e",
        "colab_type": "code",
        "colab": {
          "base_uri": "https://localhost:8080/",
          "height": 223
        },
        "outputId": "c9cfed03-0ba6-44cc-ce59-09a1d7c687d1"
      },
      "source": [
        "data[0:3]"
      ],
      "execution_count": null,
      "outputs": [
        {
          "output_type": "execute_result",
          "data": {
            "text/html": [
              "<div>\n",
              "<style scoped>\n",
              "    .dataframe tbody tr th:only-of-type {\n",
              "        vertical-align: middle;\n",
              "    }\n",
              "\n",
              "    .dataframe tbody tr th {\n",
              "        vertical-align: top;\n",
              "    }\n",
              "\n",
              "    .dataframe thead th {\n",
              "        text-align: right;\n",
              "    }\n",
              "</style>\n",
              "<table border=\"1\" class=\"dataframe\">\n",
              "  <thead>\n",
              "    <tr style=\"text-align: right;\">\n",
              "      <th></th>\n",
              "      <th>encounter_id</th>\n",
              "      <th>patient_nbr</th>\n",
              "      <th>race</th>\n",
              "      <th>gender</th>\n",
              "      <th>age</th>\n",
              "      <th>admission_type_id</th>\n",
              "      <th>discharge_disposition_id</th>\n",
              "      <th>admission_source_id</th>\n",
              "      <th>time_in_hospital</th>\n",
              "      <th>num_lab_procedures</th>\n",
              "      <th>num_procedures</th>\n",
              "      <th>num_medications</th>\n",
              "      <th>number_outpatient</th>\n",
              "      <th>number_emergency</th>\n",
              "      <th>number_inpatient</th>\n",
              "      <th>diag_1</th>\n",
              "      <th>number_diagnoses</th>\n",
              "      <th>max_glu_serum</th>\n",
              "      <th>A1Cresult</th>\n",
              "      <th>metformin</th>\n",
              "      <th>repaglinide</th>\n",
              "      <th>nateglinide</th>\n",
              "      <th>chlorpropamide</th>\n",
              "      <th>glimepiride</th>\n",
              "      <th>acetohexamide</th>\n",
              "      <th>glipizide</th>\n",
              "      <th>glyburide</th>\n",
              "      <th>tolbutamide</th>\n",
              "      <th>pioglitazone</th>\n",
              "      <th>rosiglitazone</th>\n",
              "      <th>acarbose</th>\n",
              "      <th>miglitol</th>\n",
              "      <th>troglitazone</th>\n",
              "      <th>tolazamide</th>\n",
              "      <th>examide</th>\n",
              "      <th>citoglipton</th>\n",
              "      <th>insulin</th>\n",
              "      <th>glyburide-metformin</th>\n",
              "      <th>glipizide-metformin</th>\n",
              "      <th>glimepiride-pioglitazone</th>\n",
              "      <th>metformin-rosiglitazone</th>\n",
              "      <th>metformin-pioglitazone</th>\n",
              "      <th>change</th>\n",
              "      <th>diabetesMed</th>\n",
              "      <th>readmitted</th>\n",
              "    </tr>\n",
              "  </thead>\n",
              "  <tbody>\n",
              "    <tr>\n",
              "      <th>0</th>\n",
              "      <td>2278392</td>\n",
              "      <td>8222157</td>\n",
              "      <td>Caucasian</td>\n",
              "      <td>Female</td>\n",
              "      <td>[0-10)</td>\n",
              "      <td>6</td>\n",
              "      <td>25</td>\n",
              "      <td>1</td>\n",
              "      <td>1</td>\n",
              "      <td>41</td>\n",
              "      <td>0</td>\n",
              "      <td>1</td>\n",
              "      <td>0</td>\n",
              "      <td>0</td>\n",
              "      <td>0</td>\n",
              "      <td>250.83</td>\n",
              "      <td>1</td>\n",
              "      <td>None</td>\n",
              "      <td>None</td>\n",
              "      <td>No</td>\n",
              "      <td>No</td>\n",
              "      <td>No</td>\n",
              "      <td>No</td>\n",
              "      <td>No</td>\n",
              "      <td>No</td>\n",
              "      <td>No</td>\n",
              "      <td>No</td>\n",
              "      <td>No</td>\n",
              "      <td>No</td>\n",
              "      <td>No</td>\n",
              "      <td>No</td>\n",
              "      <td>No</td>\n",
              "      <td>No</td>\n",
              "      <td>No</td>\n",
              "      <td>No</td>\n",
              "      <td>No</td>\n",
              "      <td>No</td>\n",
              "      <td>No</td>\n",
              "      <td>No</td>\n",
              "      <td>No</td>\n",
              "      <td>No</td>\n",
              "      <td>No</td>\n",
              "      <td>No</td>\n",
              "      <td>No</td>\n",
              "      <td>N</td>\n",
              "    </tr>\n",
              "    <tr>\n",
              "      <th>1</th>\n",
              "      <td>149190</td>\n",
              "      <td>55629189</td>\n",
              "      <td>Caucasian</td>\n",
              "      <td>Female</td>\n",
              "      <td>[10-20)</td>\n",
              "      <td>1</td>\n",
              "      <td>1</td>\n",
              "      <td>7</td>\n",
              "      <td>3</td>\n",
              "      <td>59</td>\n",
              "      <td>0</td>\n",
              "      <td>18</td>\n",
              "      <td>0</td>\n",
              "      <td>0</td>\n",
              "      <td>0</td>\n",
              "      <td>276</td>\n",
              "      <td>9</td>\n",
              "      <td>None</td>\n",
              "      <td>None</td>\n",
              "      <td>No</td>\n",
              "      <td>No</td>\n",
              "      <td>No</td>\n",
              "      <td>No</td>\n",
              "      <td>No</td>\n",
              "      <td>No</td>\n",
              "      <td>No</td>\n",
              "      <td>No</td>\n",
              "      <td>No</td>\n",
              "      <td>No</td>\n",
              "      <td>No</td>\n",
              "      <td>No</td>\n",
              "      <td>No</td>\n",
              "      <td>No</td>\n",
              "      <td>No</td>\n",
              "      <td>No</td>\n",
              "      <td>No</td>\n",
              "      <td>Up</td>\n",
              "      <td>No</td>\n",
              "      <td>No</td>\n",
              "      <td>No</td>\n",
              "      <td>No</td>\n",
              "      <td>No</td>\n",
              "      <td>Ch</td>\n",
              "      <td>Yes</td>\n",
              "      <td>N</td>\n",
              "    </tr>\n",
              "    <tr>\n",
              "      <th>2</th>\n",
              "      <td>64410</td>\n",
              "      <td>86047875</td>\n",
              "      <td>AfricanAmerican</td>\n",
              "      <td>Female</td>\n",
              "      <td>[20-30)</td>\n",
              "      <td>1</td>\n",
              "      <td>1</td>\n",
              "      <td>7</td>\n",
              "      <td>2</td>\n",
              "      <td>11</td>\n",
              "      <td>5</td>\n",
              "      <td>13</td>\n",
              "      <td>2</td>\n",
              "      <td>0</td>\n",
              "      <td>1</td>\n",
              "      <td>648</td>\n",
              "      <td>6</td>\n",
              "      <td>None</td>\n",
              "      <td>None</td>\n",
              "      <td>No</td>\n",
              "      <td>No</td>\n",
              "      <td>No</td>\n",
              "      <td>No</td>\n",
              "      <td>No</td>\n",
              "      <td>No</td>\n",
              "      <td>Steady</td>\n",
              "      <td>No</td>\n",
              "      <td>No</td>\n",
              "      <td>No</td>\n",
              "      <td>No</td>\n",
              "      <td>No</td>\n",
              "      <td>No</td>\n",
              "      <td>No</td>\n",
              "      <td>No</td>\n",
              "      <td>No</td>\n",
              "      <td>No</td>\n",
              "      <td>No</td>\n",
              "      <td>No</td>\n",
              "      <td>No</td>\n",
              "      <td>No</td>\n",
              "      <td>No</td>\n",
              "      <td>No</td>\n",
              "      <td>No</td>\n",
              "      <td>Yes</td>\n",
              "      <td>N</td>\n",
              "    </tr>\n",
              "  </tbody>\n",
              "</table>\n",
              "</div>"
            ],
            "text/plain": [
              "   encounter_id  patient_nbr             race  gender      age  admission_type_id  discharge_disposition_id  admission_source_id  time_in_hospital  num_lab_procedures  num_procedures  num_medications  number_outpatient  number_emergency  number_inpatient  diag_1  number_diagnoses max_glu_serum A1Cresult metformin repaglinide nateglinide chlorpropamide glimepiride acetohexamide glipizide glyburide tolbutamide pioglitazone rosiglitazone acarbose miglitol troglitazone tolazamide examide citoglipton insulin glyburide-metformin glipizide-metformin glimepiride-pioglitazone metformin-rosiglitazone metformin-pioglitazone change diabetesMed readmitted\n",
              "0       2278392      8222157        Caucasian  Female   [0-10)                  6                        25                    1                 1                  41               0                1                  0                 0                 0  250.83                 1          None      None        No          No          No             No          No            No        No        No          No           No            No       No       No           No         No      No          No      No                  No                  No                       No                      No                     No     No          No          N\n",
              "1        149190     55629189        Caucasian  Female  [10-20)                  1                         1                    7                 3                  59               0               18                  0                 0                 0     276                 9          None      None        No          No          No             No          No            No        No        No          No           No            No       No       No           No         No      No          No      Up                  No                  No                       No                      No                     No     Ch         Yes          N\n",
              "2         64410     86047875  AfricanAmerican  Female  [20-30)                  1                         1                    7                 2                  11               5               13                  2                 0                 1     648                 6          None      None        No          No          No             No          No            No    Steady        No          No           No            No       No       No           No         No      No          No      No                  No                  No                       No                      No                     No     No         Yes          N"
            ]
          },
          "metadata": {
            "tags": []
          },
          "execution_count": 57
        }
      ]
    },
    {
      "cell_type": "code",
      "metadata": {
        "id": "pFKoLVYte43h",
        "colab_type": "code",
        "colab": {
          "base_uri": "https://localhost:8080/",
          "height": 235
        },
        "outputId": "727efd82-d099-4889-b7df-940be0f02839"
      },
      "source": [
        "# creating a list of categorical and numeric columns names\n",
        "categorical=data.select_dtypes(include=['object']) # select strings\n",
        "numeric=data.select_dtypes(exclude=['object'])\n",
        "print(categorical.columns.values)\n",
        "print(numeric.columns.values)"
      ],
      "execution_count": null,
      "outputs": [
        {
          "output_type": "stream",
          "text": [
            "['race' 'gender' 'age' 'diag_1' 'max_glu_serum' 'A1Cresult' 'metformin'\n",
            " 'repaglinide' 'nateglinide' 'chlorpropamide' 'glimepiride'\n",
            " 'acetohexamide' 'glipizide' 'glyburide' 'tolbutamide' 'pioglitazone'\n",
            " 'rosiglitazone' 'acarbose' 'miglitol' 'troglitazone' 'tolazamide'\n",
            " 'examide' 'citoglipton' 'insulin' 'glyburide-metformin'\n",
            " 'glipizide-metformin' 'glimepiride-pioglitazone'\n",
            " 'metformin-rosiglitazone' 'metformin-pioglitazone' 'change' 'diabetesMed'\n",
            " 'readmitted']\n",
            "['encounter_id' 'patient_nbr' 'admission_type_id'\n",
            " 'discharge_disposition_id' 'admission_source_id' 'time_in_hospital'\n",
            " 'num_lab_procedures' 'num_procedures' 'num_medications'\n",
            " 'number_outpatient' 'number_emergency' 'number_inpatient'\n",
            " 'number_diagnoses']\n"
          ],
          "name": "stdout"
        }
      ]
    },
    {
      "cell_type": "code",
      "metadata": {
        "scrolled": true,
        "id": "5-fBLeMDe43j",
        "colab_type": "code",
        "colab": {
          "base_uri": "https://localhost:8080/",
          "height": 1000
        },
        "outputId": "d39fb463-da78-4573-882a-4e6aeaa6fb4a"
      },
      "source": [
        "# printing the frequency count of all the categorical features\n",
        "for col in categorical:\n",
        "    print(categorical[col].value_counts())"
      ],
      "execution_count": null,
      "outputs": [
        {
          "output_type": "stream",
          "text": [
            "Caucasian          60836\n",
            "AfricanAmerican    15406\n",
            "Hispanic            1615\n",
            "Other               1215\n",
            "Asian                512\n",
            "Name: race, dtype: int64\n",
            "Female    42850\n",
            "Male      36734\n",
            "Name: gender, dtype: int64\n",
            "[70-80)     20412\n",
            "[60-70)     17654\n",
            "[80-90)     13470\n",
            "[50-60)     13453\n",
            "[40-50)      7531\n",
            "[30-40)      2957\n",
            "[90-100)     2163\n",
            "[20-30)      1278\n",
            "[10-20)       539\n",
            "[0-10)        127\n",
            "Name: age, dtype: int64\n",
            "428    5330\n",
            "414    5073\n",
            "786    3157\n",
            "410    2818\n",
            "486    2768\n",
            "       ... \n",
            "657       1\n",
            "653       1\n",
            "352       1\n",
            "391       1\n",
            "133       1\n",
            "Name: diag_1, Length: 693, dtype: int64\n",
            "None    75379\n",
            "Norm     2020\n",
            ">200     1182\n",
            ">300     1003\n",
            "Name: max_glu_serum, dtype: int64\n",
            "None    66266\n",
            ">8       6403\n",
            "Norm     3939\n",
            ">7       2976\n",
            "Name: A1Cresult, dtype: int64\n",
            "No        64041\n",
            "Steady    14277\n",
            "Up          817\n",
            "Down        449\n",
            "Name: metformin, dtype: int64\n",
            "No        78366\n",
            "Steady     1088\n",
            "Up           95\n",
            "Down         35\n",
            "Name: repaglinide, dtype: int64\n",
            "No        79020\n",
            "Steady      535\n",
            "Up           20\n",
            "Down          9\n",
            "Name: nateglinide, dtype: int64\n",
            "No        79511\n",
            "Steady       66\n",
            "Up            6\n",
            "Down          1\n",
            "Name: chlorpropamide, dtype: int64\n",
            "No        75583\n",
            "Steady     3579\n",
            "Up          269\n",
            "Down        153\n",
            "Name: glimepiride, dtype: int64\n",
            "No        79583\n",
            "Steady        1\n",
            "Name: acetohexamide, dtype: int64\n",
            "No        69547\n",
            "Steady     9012\n",
            "Up          596\n",
            "Down        429\n",
            "Name: glipizide, dtype: int64\n",
            "No        71324\n",
            "Steady     7182\n",
            "Up          642\n",
            "Down        436\n",
            "Name: glyburide, dtype: int64\n",
            "No        79569\n",
            "Steady       15\n",
            "Name: tolbutamide, dtype: int64\n",
            "No        73803\n",
            "Steady     5495\n",
            "Up          188\n",
            "Down         98\n",
            "Name: pioglitazone, dtype: int64\n",
            "No        74596\n",
            "Steady     4784\n",
            "Up          144\n",
            "Down         60\n",
            "Name: rosiglitazone, dtype: int64\n",
            "No        79340\n",
            "Steady      232\n",
            "Up            9\n",
            "Down          3\n",
            "Name: acarbose, dtype: int64\n",
            "No        79552\n",
            "Steady       27\n",
            "Down          4\n",
            "Up            1\n",
            "Name: miglitol, dtype: int64\n",
            "No        79582\n",
            "Steady        2\n",
            "Name: troglitazone, dtype: int64\n",
            "No        79558\n",
            "Steady       26\n",
            "Name: tolazamide, dtype: int64\n",
            "No    79584\n",
            "Name: examide, dtype: int64\n",
            "No    79584\n",
            "Name: citoglipton, dtype: int64\n",
            "No        37078\n",
            "Steady    23918\n",
            "Down       9699\n",
            "Up         8889\n",
            "Name: insulin, dtype: int64\n",
            "No        79045\n",
            "Steady      531\n",
            "Up            6\n",
            "Down          2\n",
            "Name: glyburide-metformin, dtype: int64\n",
            "No        79575\n",
            "Steady        9\n",
            "Name: glipizide-metformin, dtype: int64\n",
            "No        79583\n",
            "Steady        1\n",
            "Name: glimepiride-pioglitazone, dtype: int64\n",
            "No    79584\n",
            "Name: metformin-rosiglitazone, dtype: int64\n",
            "No        79583\n",
            "Steady        1\n",
            "Name: metformin-pioglitazone, dtype: int64\n",
            "No    42797\n",
            "Ch    36787\n",
            "Name: change, dtype: int64\n",
            "Yes    61236\n",
            "No     18348\n",
            "Name: diabetesMed, dtype: int64\n",
            "N    70658\n",
            "Y     8926\n",
            "Name: readmitted, dtype: int64\n"
          ],
          "name": "stdout"
        }
      ]
    },
    {
      "cell_type": "code",
      "metadata": {
        "scrolled": true,
        "id": "AB0DKm6Te43m",
        "colab_type": "code",
        "colab": {
          "base_uri": "https://localhost:8080/",
          "height": 1000
        },
        "outputId": "7f763713-ba7a-454e-b8fc-b47ad36d5c3e"
      },
      "source": [
        "# printing the frequency of all the numeric features\n",
        "for col in numeric:\n",
        "    print(numeric[col].value_counts())\n",
        "# Didn't find any outliers"
      ],
      "execution_count": null,
      "outputs": [
        {
          "output_type": "stream",
          "text": [
            "116046918    1\n",
            "156142020    1\n",
            "44001720     1\n",
            "106920378    1\n",
            "31279548     1\n",
            "            ..\n",
            "167599554    1\n",
            "45102444     1\n",
            "256779630    1\n",
            "69338310     1\n",
            "77856768     1\n",
            "Name: encounter_id, Length: 79584, dtype: int64\n",
            "88785891    33\n",
            "43140906    25\n",
            "88227540    22\n",
            "1660293     21\n",
            "88789707    19\n",
            "            ..\n",
            "43121745     1\n",
            "2570319      1\n",
            "3352653      1\n",
            "27841248     1\n",
            "93251151     1\n",
            "Name: patient_nbr, Length: 58521, dtype: int64\n",
            "1    42435\n",
            "3    14727\n",
            "2    14201\n",
            "6     4168\n",
            "5     3768\n",
            "8      262\n",
            "7       16\n",
            "4        7\n",
            "Name: admission_type_id, dtype: int64\n",
            "1     47025\n",
            "3     10886\n",
            "6     10162\n",
            "18     2924\n",
            "2      1656\n",
            "22     1606\n",
            "11     1305\n",
            "5       910\n",
            "25      759\n",
            "4       598\n",
            "7       497\n",
            "13      318\n",
            "23      316\n",
            "14      281\n",
            "28      103\n",
            "8        84\n",
            "15       56\n",
            "24       43\n",
            "9        16\n",
            "16       11\n",
            "17       11\n",
            "19        6\n",
            "10        5\n",
            "12        3\n",
            "27        2\n",
            "20        1\n",
            "Name: discharge_disposition_id, dtype: int64\n",
            "7     45435\n",
            "1     23011\n",
            "17     5305\n",
            "4      2388\n",
            "6      1592\n",
            "2       820\n",
            "5       672\n",
            "3       153\n",
            "20      127\n",
            "9        45\n",
            "8        13\n",
            "22       10\n",
            "10        7\n",
            "11        2\n",
            "25        2\n",
            "13        1\n",
            "14        1\n",
            "Name: admission_source_id, dtype: int64\n",
            "3     13874\n",
            "2     13511\n",
            "1     11036\n",
            "4     10887\n",
            "5      7826\n",
            "6      5877\n",
            "7      4554\n",
            "8      3447\n",
            "9      2378\n",
            "10     1838\n",
            "11     1430\n",
            "12     1150\n",
            "13      956\n",
            "14      820\n",
            "Name: time_in_hospital, dtype: int64\n",
            "1      2504\n",
            "43     2170\n",
            "44     1927\n",
            "45     1862\n",
            "38     1727\n",
            "       ... \n",
            "129       1\n",
            "118       1\n",
            "109       1\n",
            "120       1\n",
            "132       1\n",
            "Name: num_lab_procedures, Length: 115, dtype: int64\n",
            "0    36433\n",
            "1    16251\n",
            "2     9949\n",
            "3     7411\n",
            "6     3853\n",
            "4     3294\n",
            "5     2393\n",
            "Name: num_procedures, dtype: int64\n",
            "13    4726\n",
            "12    4655\n",
            "11    4504\n",
            "15    4499\n",
            "14    4491\n",
            "      ... \n",
            "70       1\n",
            "74       1\n",
            "75       1\n",
            "79       1\n",
            "81       1\n",
            "Name: num_medications, Length: 75, dtype: int64\n",
            "0     66420\n",
            "1      6732\n",
            "2      2813\n",
            "3      1600\n",
            "4       863\n",
            "5       439\n",
            "6       229\n",
            "7       127\n",
            "8        79\n",
            "9        67\n",
            "10       44\n",
            "11       30\n",
            "13       26\n",
            "12       22\n",
            "14       21\n",
            "15       20\n",
            "16       13\n",
            "17        6\n",
            "20        4\n",
            "21        4\n",
            "19        3\n",
            "18        3\n",
            "22        2\n",
            "23        2\n",
            "24        2\n",
            "36        2\n",
            "29        2\n",
            "40        1\n",
            "34        1\n",
            "37        1\n",
            "35        1\n",
            "26        1\n",
            "28        1\n",
            "27        1\n",
            "25        1\n",
            "42        1\n",
            "Name: number_outpatient, dtype: int64\n",
            "0     70555\n",
            "1      6067\n",
            "2      1630\n",
            "3       565\n",
            "4       309\n",
            "5       155\n",
            "6        76\n",
            "7        59\n",
            "8        42\n",
            "10       26\n",
            "9        22\n",
            "11       19\n",
            "13       11\n",
            "12        9\n",
            "16        5\n",
            "22        5\n",
            "18        4\n",
            "19        4\n",
            "14        3\n",
            "15        3\n",
            "20        2\n",
            "21        2\n",
            "76        1\n",
            "54        1\n",
            "24        1\n",
            "25        1\n",
            "28        1\n",
            "29        1\n",
            "37        1\n",
            "42        1\n",
            "46        1\n",
            "64        1\n",
            "63        1\n",
            "Name: number_emergency, dtype: int64\n",
            "0     52549\n",
            "1     15503\n",
            "2      5987\n",
            "3      2656\n",
            "4      1291\n",
            "5       636\n",
            "6       387\n",
            "7       210\n",
            "8       122\n",
            "9        84\n",
            "10       48\n",
            "11       39\n",
            "12       32\n",
            "13       15\n",
            "15        8\n",
            "14        7\n",
            "16        6\n",
            "19        2\n",
            "17        1\n",
            "21        1\n",
            "Name: number_inpatient, dtype: int64\n",
            "9     38983\n",
            "5      8564\n",
            "8      8331\n",
            "7      8137\n",
            "6      7980\n",
            "4      4356\n",
            "3      2207\n",
            "2       768\n",
            "1       175\n",
            "16       28\n",
            "10       13\n",
            "13       12\n",
            "11       10\n",
            "12        8\n",
            "15        7\n",
            "14        5\n",
            "Name: number_diagnoses, dtype: int64\n"
          ],
          "name": "stdout"
        }
      ]
    },
    {
      "cell_type": "code",
      "metadata": {
        "scrolled": false,
        "id": "QgmZtY4fe43p",
        "colab_type": "code",
        "colab": {
          "base_uri": "https://localhost:8080/",
          "height": 1000
        },
        "outputId": "07c41cf7-2f95-4807-813e-a95ccfb591c1"
      },
      "source": [
        "for col in categorical:\n",
        "    categorical[col].value_counts().plot(kind='bar')\n",
        "    plt.show()    "
      ],
      "execution_count": null,
      "outputs": [
        {
          "output_type": "display_data",
          "data": {
            "image/png": "[encoded data removed]",
            "text/plain": [
              "<Figure size 432x288 with 1 Axes>"
            ]
          },
          "metadata": {
            "tags": [],
            "needs_background": "light"
          }
        },
        {
          "output_type": "display_data",
          "data": {
            "image/png": "[encoded data removed]",
            "text/plain": [
              "<Figure size 432x288 with 1 Axes>"
            ]
          },
          "metadata": {
            "tags": [],
            "needs_background": "light"
          }
        },
        {
          "output_type": "display_data",
          "data": {
            "image/png": "[encoded data removed]",
            "text/plain": [
              "<Figure size 432x288 with 1 Axes>"
            ]
          },
          "metadata": {
            "tags": [],
            "needs_background": "light"
          }
        },
        {
          "output_type": "display_data",
          "data": {
            "image/png": "[encoded data removed]",
            "text/plain": [
              "<Figure size 432x288 with 1 Axes>"
            ]
          },
          "metadata": {
            "tags": [],
            "needs_background": "light"
          }
        },
        {
          "output_type": "display_data",
          "data": {
            "image/png": "[encoded data removed]",
            "text/plain": [
              "<Figure size 432x288 with 1 Axes>"
            ]
          },
          "metadata": {
            "tags": [],
            "needs_background": "light"
          }
        },
        {
          "output_type": "display_data",
          "data": {
            "image/png": "[encoded data removed]",
            "text/plain": [
              "<Figure size 432x288 with 1 Axes>"
            ]
          },
          "metadata": {
            "tags": [],
            "needs_background": "light"
          }
        },
        {
          "output_type": "display_data",
          "data": {
            "image/png": "[encoded data removed]",
            "text/plain": [
              "<Figure size 432x288 with 1 Axes>"
            ]
          },
          "metadata": {
            "tags": [],
            "needs_background": "light"
          }
        },
        {
          "output_type": "display_data",
          "data": {
            "image/png": "[encoded data removed]",
            "text/plain": [
              "<Figure size 432x288 with 1 Axes>"
            ]
          },
          "metadata": {
            "tags": [],
            "needs_background": "light"
          }
        },
        {
          "output_type": "display_data",
          "data": {
            "image/png": "[encoded data removed]",
            "text/plain": [
              "<Figure size 432x288 with 1 Axes>"
            ]
          },
          "metadata": {
            "tags": [],
            "needs_background": "light"
          }
        },
        {
          "output_type": "display_data",
          "data": {
            "image/png": "[encoded data removed]",
            "text/plain": [
              "<Figure size 432x288 with 1 Axes>"
            ]
          },
          "metadata": {
            "tags": [],
            "needs_background": "light"
          }
        },
        {
          "output_type": "display_data",
          "data": {
            "image/png": "[encoded data removed]",
            "text/plain": [
              "<Figure size 432x288 with 1 Axes>"
            ]
          },
          "metadata": {
            "tags": [],
            "needs_background": "light"
          }
        },
        {
          "output_type": "display_data",
          "data": {
            "image/png": "[encoded data removed]",
            "text/plain": [
              "<Figure size 432x288 with 1 Axes>"
            ]
          },
          "metadata": {
            "tags": [],
            "needs_background": "light"
          }
        },
        {
          "output_type": "display_data",
          "data": {
            "image/png": "[encoded data removed]",
            "text/plain": [
              "<Figure size 432x288 with 1 Axes>"
            ]
          },
          "metadata": {
            "tags": [],
            "needs_background": "light"
          }
        },
        {
          "output_type": "display_data",
          "data": {
            "image/png": "[encoded data removed]",
            "text/plain": [
              "<Figure size 432x288 with 1 Axes>"
            ]
          },
          "metadata": {
            "tags": [],
            "needs_background": "light"
          }
        },
        {
          "output_type": "display_data",
          "data": {
            "image/png": "[encoded data removed]",
            "text/plain": [
              "<Figure size 432x288 with 1 Axes>"
            ]
          },
          "metadata": {
            "tags": [],
            "needs_background": "light"
          }
        },
        {
          "output_type": "display_data",
          "data": {
            "image/png": "[encoded data removed]",
            "text/plain": [
              "<Figure size 432x288 with 1 Axes>"
            ]
          },
          "metadata": {
            "tags": [],
            "needs_background": "light"
          }
        },
        {
          "output_type": "display_data",
          "data": {
            "image/png": "[encoded data removed]",
            "text/plain": [
              "<Figure size 432x288 with 1 Axes>"
            ]
          },
          "metadata": {
            "tags": [],
            "needs_background": "light"
          }
        },
        {
          "output_type": "display_data",
          "data": {
            "image/png": "[encoded data removed]",
            "text/plain": [
              "<Figure size 432x288 with 1 Axes>"
            ]
          },
          "metadata": {
            "tags": [],
            "needs_background": "light"
          }
        },
        {
          "output_type": "display_data",
          "data": {
            "image/png": "[encoded data removed]",
            "text/plain": [
              "<Figure size 432x288 with 1 Axes>"
            ]
          },
          "metadata": {
            "tags": [],
            "needs_background": "light"
          }
        },
        {
          "output_type": "display_data",
          "data": {
            "image/png": "[encoded data removed]",
            "text/plain": [
              "<Figure size 432x288 with 1 Axes>"
            ]
          },
          "metadata": {
            "tags": [],
            "needs_background": "light"
          }
        },
        {
          "output_type": "display_data",
          "data": {
            "image/png": "[encoded data removed]",
            "text/plain": [
              "<Figure size 432x288 with 1 Axes>"
            ]
          },
          "metadata": {
            "tags": [],
            "needs_background": "light"
          }
        },
        {
          "output_type": "display_data",
          "data": {
            "image/png": "[encoded data removed]",
            "text/plain": [
              "<Figure size 432x288 with 1 Axes>"
            ]
          },
          "metadata": {
            "tags": [],
            "needs_background": "light"
          }
        },
        {
          "output_type": "display_data",
          "data": {
            "image/png": "[encoded data removed]",
            "text/plain": [
              "<Figure size 432x288 with 1 Axes>"
            ]
          },
          "metadata": {
            "tags": [],
            "needs_background": "light"
          }
        },
        {
          "output_type": "display_data",
          "data": {
            "image/png": "[encoded data removed]",
            "text/plain": [
              "<Figure size 432x288 with 1 Axes>"
            ]
          },
          "metadata": {
            "tags": [],
            "needs_background": "light"
          }
        },
        {
          "output_type": "display_data",
          "data": {
            "image/png": "[encoded data removed]",
            "text/plain": [
              "<Figure size 432x288 with 1 Axes>"
            ]
          },
          "metadata": {
            "tags": [],
            "needs_background": "light"
          }
        },
        {
          "output_type": "display_data",
          "data": {
            "image/png": "[encoded data removed]",
            "text/plain": [
              "<Figure size 432x288 with 1 Axes>"
            ]
          },
          "metadata": {
            "tags": [],
            "needs_background": "light"
          }
        },
        {
          "output_type": "display_data",
          "data": {
            "image/png": "[encoded data removed]",
            "text/plain": [
              "<Figure size 432x288 with 1 Axes>"
            ]
          },
          "metadata": {
            "tags": [],
            "needs_background": "light"
          }
        },
        {
          "output_type": "display_data",
          "data": {
            "image/png": "[encoded data removed]",
            "text/plain": [
              "<Figure size 432x288 with 1 Axes>"
            ]
          },
          "metadata": {
            "tags": [],
            "needs_background": "light"
          }
        },
        {
          "output_type": "display_data",
          "data": {
            "image/png": "[encoded data removed]",
            "text/plain": [
              "<Figure size 432x288 with 1 Axes>"
            ]
          },
          "metadata": {
            "tags": [],
            "needs_background": "light"
          }
        },
        {
          "output_type": "display_data",
          "data": {
            "image/png": "[encoded data removed]",
            "text/plain": [
              "<Figure size 432x288 with 1 Axes>"
            ]
          },
          "metadata": {
            "tags": [],
            "needs_background": "light"
          }
        },
        {
          "output_type": "display_data",
          "data": {
            "image/png": "[encoded data removed]",
            "text/plain": [
              "<Figure size 432x288 with 1 Axes>"
            ]
          },
          "metadata": {
            "tags": [],
            "needs_background": "light"
          }
        },
        {
          "output_type": "display_data",
          "data": {
            "image/png": "[encoded data removed]",
            "text/plain": [
              "<Figure size 432x288 with 1 Axes>"
            ]
          },
          "metadata": {
            "tags": [],
            "needs_background": "light"
          }
        }
      ]
    },
    {
      "cell_type": "code",
      "metadata": {
        "id": "8o7Vnerve43r",
        "colab_type": "code",
        "colab": {}
      },
      "source": [
        "#data['max_glu_serum'].unique()"
      ],
      "execution_count": null,
      "outputs": []
    },
    {
      "cell_type": "code",
      "metadata": {
        "scrolled": false,
        "id": "WZ1XmfaVe43u",
        "colab_type": "code",
        "colab": {
          "base_uri": "https://localhost:8080/",
          "height": 1000
        },
        "outputId": "910f9e03-7c3b-444a-f0e4-7ec7527a3fef"
      },
      "source": [
        "for col in numeric:\n",
        "    numeric[col].plot.hist(bins=6)\n",
        "    plt.show()"
      ],
      "execution_count": null,
      "outputs": [
        {
          "output_type": "display_data",
          "data": {
            "image/png": "[encoded data removed]",
            "text/plain": [
              "<Figure size 432x288 with 1 Axes>"
            ]
          },
          "metadata": {
            "tags": [],
            "needs_background": "light"
          }
        },
        {
          "output_type": "display_data",
          "data": {
            "image/png": "[encoded data removed]",
            "text/plain": [
              "<Figure size 432x288 with 1 Axes>"
            ]
          },
          "metadata": {
            "tags": [],
            "needs_background": "light"
          }
        },
        {
          "output_type": "display_data",
          "data": {
            "image/png": "[encoded data removed]",
            "text/plain": [
              "<Figure size 432x288 with 1 Axes>"
            ]
          },
          "metadata": {
            "tags": [],
            "needs_background": "light"
          }
        },
        {
          "output_type": "display_data",
          "data": {
            "image/png": "[encoded data removed]",
            "text/plain": [
              "<Figure size 432x288 with 1 Axes>"
            ]
          },
          "metadata": {
            "tags": [],
            "needs_background": "light"
          }
        },
        {
          "output_type": "display_data",
          "data": {
            "image/png": "[encoded data removed]",
            "text/plain": [
              "<Figure size 432x288 with 1 Axes>"
            ]
          },
          "metadata": {
            "tags": [],
            "needs_background": "light"
          }
        },
        {
          "output_type": "display_data",
          "data": {
            "image/png": "[encoded data removed]",
            "text/plain": [
              "<Figure size 432x288 with 1 Axes>"
            ]
          },
          "metadata": {
            "tags": [],
            "needs_background": "light"
          }
        },
        {
          "output_type": "display_data",
          "data": {
            "image/png": "[encoded data removed]",
            "text/plain": [
              "<Figure size 432x288 with 1 Axes>"
            ]
          },
          "metadata": {
            "tags": [],
            "needs_background": "light"
          }
        },
        {
          "output_type": "display_data",
          "data": {
            "image/png": "[encoded data removed]",
            "text/plain": [
              "<Figure size 432x288 with 1 Axes>"
            ]
          },
          "metadata": {
            "tags": [],
            "needs_background": "light"
          }
        },
        {
          "output_type": "display_data",
          "data": {
            "image/png": "[encoded data removed]",
            "text/plain": [
              "<Figure size 432x288 with 1 Axes>"
            ]
          },
          "metadata": {
            "tags": [],
            "needs_background": "light"
          }
        },
        {
          "output_type": "display_data",
          "data": {
            "image/png": "[encoded data removed]",
            "text/plain": [
              "<Figure size 432x288 with 1 Axes>"
            ]
          },
          "metadata": {
            "tags": [],
            "needs_background": "light"
          }
        },
        {
          "output_type": "display_data",
          "data": {
            "image/png": "[encoded data removed]",
            "text/plain": [
              "<Figure size 432x288 with 1 Axes>"
            ]
          },
          "metadata": {
            "tags": [],
            "needs_background": "light"
          }
        },
        {
          "output_type": "display_data",
          "data": {
            "image/png": "[encoded data removed]",
            "text/plain": [
              "<Figure size 432x288 with 1 Axes>"
            ]
          },
          "metadata": {
            "tags": [],
            "needs_background": "light"
          }
        },
        {
          "output_type": "display_data",
          "data": {
            "image/png": "[encoded data removed]",
            "text/plain": [
              "<Figure size 432x288 with 1 Axes>"
            ]
          },
          "metadata": {
            "tags": [],
            "needs_background": "light"
          }
        }
      ]
    },
    {
      "cell_type": "code",
      "metadata": {
        "id": "pB-KLaeHe43w",
        "colab_type": "code",
        "colab": {}
      },
      "source": [
        "# Deleting the 2 columns because they have all the observations only in one category \n",
        "data.drop(['examide','citoglipton'],axis=1,inplace=True) # axis=1 column\n",
        "data.shape"
      ],
      "execution_count": null,
      "outputs": []
    },
    {
      "cell_type": "code",
      "metadata": {
        "id": "jajV_SXie43z",
        "colab_type": "code",
        "colab": {}
      },
      "source": [
        "#Making the target variable and other variables binary\n",
        "data = data[data['readmitted'].isin(['Y', 'N'])] # keep those with Y/N\n",
        "data['readmitted'] = data['readmitted'].apply(lambda x: 0 if x == \"N\" else 1)\n",
        "data['change'] = data['change'].apply(lambda x: 0 if x == \"No\" else 1)\n",
        "data['gender'] = data['gender'].apply(lambda x: 0 if x == \"Female\" else 1)\n",
        "data['diabetesMed'] = data['diabetesMed'].apply(lambda x: 0 if x == \"No\" else 1)\n",
        "data.shape"
      ],
      "execution_count": null,
      "outputs": []
    },
    {
      "cell_type": "code",
      "metadata": {
        "id": "9DkyqjNPe431",
        "colab_type": "code",
        "colab": {}
      },
      "source": [
        "# There are 3 types of visits to a hospital. 1) Inpatient 2) Outpatient 3) Emergency.\n",
        "# Combining them into a single column\n",
        "data['total_visits'] = data['number_outpatient'] + data['number_emergency'] + data['number_inpatient']"
      ],
      "execution_count": null,
      "outputs": []
    },
    {
      "cell_type": "markdown",
      "metadata": {
        "id": "aTjVDWM4e433",
        "colab_type": "text"
      },
      "source": [
        "We have age feature which is given in bins. We have to changed it with the average value. eg: for age 0-10 we took the average age which is 5."
      ]
    },
    {
      "cell_type": "code",
      "metadata": {
        "id": "mbHi2go8e433",
        "colab_type": "code",
        "colab": {}
      },
      "source": [
        "# defining a function to give average value for the age\n",
        "def agecategory(x):\n",
        "    \n",
        "    if x == \"[0-10)\" :\n",
        "        return 5\n",
        "    elif x == \"[10-20)\":\n",
        "        return 15\n",
        "    elif x == \"[20-30)\":\n",
        "        return 25\n",
        "    elif x == \"[30-40)\":\n",
        "        return 35\n",
        "    elif x == \"[40-50)\":\n",
        "        return 45\n",
        "    elif x == \"[50-60)\":\n",
        "        return 55\n",
        "    elif x == \"[60-70)\":\n",
        "        return 65\n",
        "    elif x == \"[70-80)\":\n",
        "        return 75\n",
        "    else:\n",
        "        return 0        "
      ],
      "execution_count": null,
      "outputs": []
    },
    {
      "cell_type": "code",
      "metadata": {
        "id": "Qmb8Cwrbe436",
        "colab_type": "code",
        "colab": {}
      },
      "source": [
        "# replacing the age bins with their average value\n",
        "data['age'] = data['age'].apply(lambda x: agecategory(x))"
      ],
      "execution_count": null,
      "outputs": []
    },
    {
      "cell_type": "code",
      "metadata": {
        "id": "_nCifG3oe43-",
        "colab_type": "code",
        "colab": {}
      },
      "source": [
        "data['age'][:10]"
      ],
      "execution_count": null,
      "outputs": []
    },
    {
      "cell_type": "markdown",
      "metadata": {
        "id": "KXCL7iwGe44A",
        "colab_type": "text"
      },
      "source": [
        "There are 23 treatments of which 2 treatments are never used by patients and we took the number of treatments the patient has undergone as a feature which will be used for analysis."
      ]
    },
    {
      "cell_type": "code",
      "metadata": {
        "id": "q_-McfRQe44B",
        "colab_type": "code",
        "colab": {}
      },
      "source": [
        "# There are many treatments from which a doctor would recommend the patient, lets combine all the treatments into one dataframe\n",
        "treatments = ['metformin' ,'repaglinide','nateglinide','chlorpropamide','glimepiride','acetohexamide' ,'glipizide',\\\n",
        "              'glyburide', 'tolbutamide', 'pioglitazone','rosiglitazone', 'acarbose' ,'miglitol' ,'troglitazone', \\\n",
        "              'tolazamide', 'insulin' ,'glyburide-metformin','glipizide-metformin', \\\n",
        "              'glimepiride-pioglitazone', 'metformin-rosiglitazone', 'metformin-pioglitazone']"
      ],
      "execution_count": null,
      "outputs": []
    },
    {
      "cell_type": "code",
      "metadata": {
        "scrolled": true,
        "id": "SgdkNY6fe44D",
        "colab_type": "code",
        "colab": {}
      },
      "source": [
        "print(treatments)"
      ],
      "execution_count": null,
      "outputs": []
    },
    {
      "cell_type": "code",
      "metadata": {
        "id": "b73YTfvne44F",
        "colab_type": "code",
        "colab": {}
      },
      "source": [
        "# Assigning a value of 0 if there are not undergoing treatment and assigning 1 even if they are taking\\\n",
        "# increasing/decreasing/steady dosage\n",
        "for i in treatments:\n",
        "    data[i] = data[i].apply(lambda x: 0 if x == \"No\" else 1)"
      ],
      "execution_count": null,
      "outputs": []
    },
    {
      "cell_type": "code",
      "metadata": {
        "id": "GjBv-H6Pe44H",
        "colab_type": "code",
        "colab": {}
      },
      "source": [
        "# finding out total number of treatments taken by patient\n",
        "data['treatments_taken'] = np.zeros((len(data['metformin']))) # create zero-vector of all rows\n",
        "for col in treatments:\n",
        "    data['treatments_taken'] += data[col]"
      ],
      "execution_count": null,
      "outputs": []
    },
    {
      "cell_type": "code",
      "metadata": {
        "id": "yDE0FFade44K",
        "colab_type": "code",
        "colab": {}
      },
      "source": [
        "data.head()"
      ],
      "execution_count": null,
      "outputs": []
    },
    {
      "cell_type": "code",
      "metadata": {
        "id": "Ftvpsa3ke44M",
        "colab_type": "code",
        "colab": {}
      },
      "source": [
        "# A1C > 6.4 implies that the patient has diabetes. Therefore, considered values greater than 7 and 8 together.\n",
        "# other 2 categories : Norm and None ; Norm implies the values in the normal range ; None implies no test conducted;\n",
        "data['A1Cresult'] = data['A1Cresult'].apply(lambda x: 0 if x == \"None\" else (1 if x==\"Norm\" else 2) )\n",
        "data['max_glu_serum'] = data['max_glu_serum'].apply(lambda x: 0 if x == \"None\" else (1 if x==\"Norm\" else 2) )"
      ],
      "execution_count": null,
      "outputs": []
    },
    {
      "cell_type": "code",
      "metadata": {
        "id": "ptYtxmMme44O",
        "colab_type": "code",
        "colab": {}
      },
      "source": [
        "#Based on information in https://www.hindawi.com/journals/bmri/2014/781670/tab2/.Classified diagnosis into 9 categories\n",
        "#Categories[0-8]: Other,Circulatory, Respiratory,Digestive, Diabetes,Injury, Musculoskeletal,Genitourinary,Neoplasms\n",
        "#defining the function to classify the numbers into one of the 8 categories\n",
        "\n",
        "def getCategor(x):\n",
        "    if 'V' in str(x) or 'E' in str(x):\n",
        "        return 0\n",
        "    \n",
        "    x = float(x)\n",
        "    \n",
        "    if (x >= 390 and x <= 459) or np.floor(x) == 785:\n",
        "        return 1\n",
        "    elif (x >= 460 and x <= 519) or np.floor(x) == 786:\n",
        "        return 2\n",
        "    elif (x >= 520 and x <= 579) or np.floor(x) == 787:\n",
        "        return 3\n",
        "    elif np.floor(x) == 250:\n",
        "        return 4\n",
        "    elif x >= 800 and x <= 999:\n",
        "        return 5\n",
        "    elif x >= 710 and x <= 739:\n",
        "        return 6\n",
        "    elif (x >= 580 and x <= 629) or np.floor(x) == 788:\n",
        "        return 7\n",
        "    elif x >= 140 and x <= 239:\n",
        "        return 8\n",
        "    else:\n",
        "        return 0\n",
        "        "
      ],
      "execution_count": null,
      "outputs": []
    },
    {
      "cell_type": "code",
      "metadata": {
        "id": "_FdqKe1me44Q",
        "colab_type": "code",
        "colab": {}
      },
      "source": [
        "#changing the values into categories\n",
        "data['diag_1_category'] = data['diag_1'].apply(lambda x: getCategor(x))"
      ],
      "execution_count": null,
      "outputs": []
    },
    {
      "cell_type": "code",
      "metadata": {
        "id": "QbFwbh7Qe44R",
        "colab_type": "code",
        "colab": {}
      },
      "source": [
        "data['diag_1_category'][:10]"
      ],
      "execution_count": null,
      "outputs": []
    },
    {
      "cell_type": "code",
      "metadata": {
        "id": "me6Zu8eBe44U",
        "colab_type": "code",
        "colab": {}
      },
      "source": [
        "list(data)"
      ],
      "execution_count": null,
      "outputs": []
    },
    {
      "cell_type": "markdown",
      "metadata": {
        "id": "nzMGEQD3e44V",
        "colab_type": "text"
      },
      "source": [
        "Some patients in the data have more than one encounters, we need to make sure to remove the multiple patient visits because that might cause bias in our predictions. For that reason we remove all the visits by a patient other than their first visit (i.e., index visit)."
      ]
    },
    {
      "cell_type": "code",
      "metadata": {
        "scrolled": true,
        "id": "TiFzR-Wze44W",
        "colab_type": "code",
        "colab": {}
      },
      "source": [
        "# Check for readmitted patients and remove all visits other than the 1st visit\n",
        "#patients = data['patient_nbr']\n",
        "#data[patients.isin(patients[patients.duplicated()])]"
      ],
      "execution_count": null,
      "outputs": []
    },
    {
      "cell_type": "code",
      "metadata": {
        "id": "HhO0Tx-ge44Y",
        "colab_type": "code",
        "colab": {}
      },
      "source": [
        "#dropping the patients encounters other than 1st visit\n",
        "data = data.drop_duplicates(subset= ['patient_nbr'], keep = 'first')\n",
        "data.shape"
      ],
      "execution_count": null,
      "outputs": []
    },
    {
      "cell_type": "markdown",
      "metadata": {
        "id": "fZOJ3x1Ze44Z",
        "colab_type": "text"
      },
      "source": [
        "Variables like admission_type_id, discharge_despotion_id etc does not have any intrinsic value associated with them. So we make them categorical variables."
      ]
    },
    {
      "cell_type": "code",
      "metadata": {
        "id": "0UJ6Xuxue44Z",
        "colab_type": "code",
        "colab": {}
      },
      "source": [
        "# coercing the admission_type_id, discharge_disposition_id, admission_source_id diag_1_category, \\\n",
        "# max_glu_serum, A1Cresult into categorical since the magnitudes does not have any intrinsic value\n",
        "data['admission_type_id'] = data['admission_type_id'].astype('object')\n",
        "data['admission_source_id'] = data['admission_source_id'].astype('object')\n",
        "data['discharge_disposition_id'] = data['discharge_disposition_id'].astype('object')\n",
        "data['diag_1_category'] = data['diag_1_category'].astype('object')\n",
        "data['max_glu_serum'] = data['max_glu_serum'].astype('object')\n",
        "data['A1Cresult'] = data['A1Cresult'].astype('object')"
      ],
      "execution_count": null,
      "outputs": []
    },
    {
      "cell_type": "markdown",
      "metadata": {
        "id": "VhTkYoLWe44c",
        "colab_type": "text"
      },
      "source": [
        "Features like encounter_id, patient_nbr are for identity purpose and do not contribute towards predictions, so we remove them from analysis. Variables like number_outpatient, number_emergency are being used to create new variable which are being used for analysis. So we can remove other unnecessary variables."
      ]
    },
    {
      "cell_type": "code",
      "metadata": {
        "id": "a6MzOsQ8e44c",
        "colab_type": "code",
        "colab": {}
      },
      "source": [
        "#list(data)"
      ],
      "execution_count": null,
      "outputs": []
    },
    {
      "cell_type": "code",
      "metadata": {
        "id": "pkC-izp8e44f",
        "colab_type": "code",
        "colab": {}
      },
      "source": [
        "# creating a list for unnecessary columns\n",
        "delete_columns = ['encounter_id','patient_nbr','number_outpatient','number_emergency','number_inpatient',\\\n",
        "                 'metformin','repaglinide','nateglinide','chlorpropamide','glimepiride','acetohexamide','glipizide'\\\n",
        "                  ,'glyburide','tolbutamide','pioglitazone','rosiglitazone','acarbose','miglitol','troglitazone' \\\n",
        "                  ,'tolazamide','insulin','glyburide-metformin','glipizide-metformin','glimepiride-pioglitazone',\\\n",
        "                  'metformin-rosiglitazone','metformin-pioglitazone','diag_1']"
      ],
      "execution_count": null,
      "outputs": []
    },
    {
      "cell_type": "code",
      "metadata": {
        "id": "TvRkyM57e44h",
        "colab_type": "code",
        "colab": {}
      },
      "source": [
        "#dropping the unnecessary columns\n",
        "data.drop(delete_columns, inplace=True, axis=1)"
      ],
      "execution_count": null,
      "outputs": []
    },
    {
      "cell_type": "code",
      "metadata": {
        "scrolled": true,
        "id": "IglRtgPme44k",
        "colab_type": "code",
        "colab": {}
      },
      "source": [
        "data.head()"
      ],
      "execution_count": null,
      "outputs": []
    },
    {
      "cell_type": "code",
      "metadata": {
        "id": "ljZC-DsEe44l",
        "colab_type": "code",
        "colab": {}
      },
      "source": [
        "#import numpy as np\n",
        "#import seaborn as sns\n",
        "#%matplotlib inline\n",
        "from scipy.stats import kurtosis\n",
        "from scipy.stats import skew\n",
        "from matplotlib import pyplot as plt\n",
        "import warnings\n",
        "warnings.filterwarnings('ignore')"
      ],
      "execution_count": null,
      "outputs": []
    },
    {
      "cell_type": "code",
      "metadata": {
        "id": "LcFx7YX-e44p",
        "colab_type": "code",
        "colab": {}
      },
      "source": [
        "#creating a list of categorical and numeric lists\n",
        "categorical=data.select_dtypes(include=['object'])\n",
        "numeric=data.select_dtypes(exclude=['object'])\n",
        "print(categorical.columns.values)\n",
        "print(numeric.columns.values)"
      ],
      "execution_count": null,
      "outputs": []
    },
    {
      "cell_type": "code",
      "metadata": {
        "id": "0njNIW8Ie44s",
        "colab_type": "code",
        "colab": {}
      },
      "source": [
        "# creating dummies for all the categorical variables and deleting the original columns\n",
        "nominal_columns = ['race', 'admission_type_id', 'discharge_disposition_id','admission_source_id' ,'diag_1_category'\\\n",
        "                  , 'max_glu_serum', 'A1Cresult']\n",
        "dummy_df = pd.get_dummies(data[nominal_columns])\n",
        "data = pd.concat([data, dummy_df], axis=1)\n",
        "data = data.drop(nominal_columns, axis=1)"
      ],
      "execution_count": null,
      "outputs": []
    },
    {
      "cell_type": "code",
      "metadata": {
        "id": "lsdwxZ_-e44v",
        "colab_type": "code",
        "colab": {}
      },
      "source": [
        "#list(data)"
      ],
      "execution_count": null,
      "outputs": []
    },
    {
      "cell_type": "code",
      "metadata": {
        "scrolled": false,
        "id": "EOjgmjYMe44x",
        "colab_type": "code",
        "colab": {}
      },
      "source": [
        "data.head()"
      ],
      "execution_count": null,
      "outputs": []
    },
    {
      "cell_type": "markdown",
      "metadata": {
        "id": "SfhrIicte44z",
        "colab_type": "text"
      },
      "source": [
        "## Prepare training/test datasets"
      ]
    },
    {
      "cell_type": "code",
      "metadata": {
        "id": "7h4CL5ive44z",
        "colab_type": "code",
        "colab": {}
      },
      "source": [
        "data1 = data"
      ],
      "execution_count": null,
      "outputs": []
    },
    {
      "cell_type": "code",
      "metadata": {
        "id": "Hhew6x55e442",
        "colab_type": "code",
        "colab": {}
      },
      "source": [
        "data1"
      ],
      "execution_count": null,
      "outputs": []
    },
    {
      "cell_type": "code",
      "metadata": {
        "id": "Dyx6HrgGe445",
        "colab_type": "code",
        "colab": {}
      },
      "source": [
        "y = data1['readmitted']"
      ],
      "execution_count": null,
      "outputs": []
    },
    {
      "cell_type": "code",
      "metadata": {
        "id": "X8jUemN3e449",
        "colab_type": "code",
        "colab": {}
      },
      "source": [
        "X = data1.drop('readmitted',axis=1)"
      ],
      "execution_count": null,
      "outputs": []
    },
    {
      "cell_type": "code",
      "metadata": {
        "id": "r5Lk8-AJe44_",
        "colab_type": "code",
        "colab": {}
      },
      "source": [
        "X_train, X_test, Y_train, Y_test = train_test_split(X, y, test_size=0.20, random_state=42)"
      ],
      "execution_count": null,
      "outputs": []
    },
    {
      "cell_type": "markdown",
      "metadata": {
        "id": "oXWAn22xe45C",
        "colab_type": "text"
      },
      "source": [
        "## Decision Tree"
      ]
    },
    {
      "cell_type": "code",
      "metadata": {
        "id": "6J8hv52Pe45C",
        "colab_type": "code",
        "colab": {}
      },
      "source": [
        "from sklearn.tree import DecisionTreeClassifier\n",
        "from sklearn.metrics import classification_report, f1_score, accuracy_score, precision_score, recall_score"
      ],
      "execution_count": null,
      "outputs": []
    },
    {
      "cell_type": "markdown",
      "metadata": {
        "id": "op-SOK4Ze45D",
        "colab_type": "text"
      },
      "source": [
        "Precision (also called positive predictive value) \\\n",
        "Recall (also known as sensitivity) \\\n",
        "F1 Score = 2 * (Precision * Recall) / (Precision + Recall)"
      ]
    },
    {
      "cell_type": "code",
      "metadata": {
        "id": "LZRNOFZZe45E",
        "colab_type": "code",
        "colab": {}
      },
      "source": [
        "#from sklearn.model_selection import cross_val_score\n",
        "\n",
        "#performance = []\n",
        "#for max_depth in [2,3,5,7,10]:\n",
        "#    dTree = DecisionTreeClassifier(criterion='entropy', class_weight = \"balanced\", max_depth=max_depth)\n",
        "#    performance.append((max_depth, np.mean(cross_val_score(dTree, X_train, Y_train, cv = 10, scoring = \"f1_micro\"))))"
      ],
      "execution_count": null,
      "outputs": []
    },
    {
      "cell_type": "code",
      "metadata": {
        "scrolled": false,
        "id": "xGyc9Kfle45H",
        "colab_type": "code",
        "colab": {}
      },
      "source": [
        "#print(performance)\n",
        "#print(\"The best tree size is: \") \n",
        "#str(sorted(performance, key = lambda x: x[1])[-1][0])"
      ],
      "execution_count": null,
      "outputs": []
    },
    {
      "cell_type": "code",
      "metadata": {
        "scrolled": true,
        "id": "VuhRac_Ke45L",
        "colab_type": "code",
        "colab": {}
      },
      "source": [
        "#X_train"
      ],
      "execution_count": null,
      "outputs": []
    },
    {
      "cell_type": "code",
      "metadata": {
        "scrolled": true,
        "id": "5O_l_7SQe45O",
        "colab_type": "code",
        "colab": {}
      },
      "source": [
        "from sklearn.model_selection import cross_val_score, KFold\n",
        "\n",
        "dTree = DecisionTreeClassifier(criterion='entropy', class_weight='balanced', max_depth = 5)\n",
        "#kf = KFold(n_splits=10, shuffle=True, random_state=0)\n",
        "dTree.fit(X_train, Y_train)\n",
        "\n",
        "print(\"Test Results:\")\n",
        "y_prediction = dTree.predict(X_test)\n",
        "print(classification_report(Y_test, y_prediction))"
      ],
      "execution_count": null,
      "outputs": []
    },
    {
      "cell_type": "markdown",
      "metadata": {
        "id": "zI3jc4Gxe45R",
        "colab_type": "text"
      },
      "source": [
        "Note that in binary classification, recall of the positive class is also known as “sensitivity”; recall of the negative class is “specificity”.\n",
        "\\\n",
        "Note: Cut-off values determine sensitivity, specificity, etc."
      ]
    },
    {
      "cell_type": "markdown",
      "metadata": {
        "id": "nEDtgZUAe45R",
        "colab_type": "text"
      },
      "source": [
        "## Logistic Regression"
      ]
    },
    {
      "cell_type": "code",
      "metadata": {
        "id": "Mxqzlslre45R",
        "colab_type": "code",
        "colab": {}
      },
      "source": [
        "from sklearn.linear_model import LogisticRegression, LogisticRegressionCV\n",
        "from sklearn.preprocessing import StandardScaler\n",
        "\n",
        "scaler = StandardScaler() # Scaled data has zero mean and unit variance\n",
        "X_train_normal = scaler.fit_transform(X_train)\n",
        "X_test_normal = scaler.transform(X_test)\n",
        "\n",
        "#model = LogisticRegressionCV(Cs = 10, cv = 10, class_weight = \"balanced\")\n",
        "model = LogisticRegression(class_weight = \"balanced\")\n",
        "model.fit(X_train_normal, Y_train)"
      ],
      "execution_count": null,
      "outputs": []
    },
    {
      "cell_type": "code",
      "metadata": {
        "id": "RrkKkY5xe45T",
        "colab_type": "code",
        "colab": {}
      },
      "source": [
        "y_prediction = model.predict(X_test_normal)\n",
        "print(classification_report(y_prediction, Y_test))"
      ],
      "execution_count": null,
      "outputs": []
    },
    {
      "cell_type": "markdown",
      "metadata": {
        "id": "dIo8xsdUe45V",
        "colab_type": "text"
      },
      "source": [
        "## Homework (unofficial)\n",
        "\n",
        "### 1) To explore result reporting with the predicted probabilities\n",
        "- ROC analysis, to report AUC value, sensitivity, specificity, positive predictive value, negative predictive value\n",
        "- Plot precision-recall curve, etc\n",
        "\n",
        "### 2) To build model with training dataset and validate it with (separate) test dataset\n",
        "- Use the \"test_data.csv\"\n",
        "\n",
        "### 3) To try different prediction methods\n",
        "- Random forest\n",
        "- XGBoost\n",
        "\n",
        "\n",
        "## Reference\n",
        "https://github.com/andrewwlong/diabetes_readmission"
      ]
    }
  ]
}